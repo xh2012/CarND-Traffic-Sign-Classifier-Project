{
 "cells": [
  {
   "cell_type": "markdown",
   "metadata": {},
   "source": [
    "# Self-Driving Car Engineer Nanodegree\n",
    "\n",
    "## Deep Learning\n",
    "\n",
    "## Project: Build a Traffic Sign Recognition Classifier\n",
    "\n",
    "In this notebook, a template is provided for you to implement your functionality in stages, which is required to successfully complete this project. If additional code is required that cannot be included in the notebook, be sure that the Python code is successfully imported and included in your submission if necessary. \n",
    "\n",
    "> **Note**: Once you have completed all of the code implementations, you need to finalize your work by exporting the iPython Notebook as an HTML document. Before exporting the notebook to html, all of the code cells need to have been run so that reviewers can see the final implementation and output. You can then export the notebook by using the menu above and navigating to  \\n\",\n",
    "    \"**File -> Download as -> HTML (.html)**. Include the finished document along with this notebook as your submission. \n",
    "\n",
    "In addition to implementing code, there is a writeup to complete. The writeup should be completed in a separate file, which can be either a markdown file or a pdf document. There is a [write up template](https://github.com/udacity/CarND-Traffic-Sign-Classifier-Project/blob/master/writeup_template.md) that can be used to guide the writing process. Completing the code template and writeup template will cover all of the [rubric points](https://review.udacity.com/#!/rubrics/481/view) for this project.\n",
    "\n",
    "The [rubric](https://review.udacity.com/#!/rubrics/481/view) contains \"Stand Out Suggestions\" for enhancing the project beyond the minimum requirements. The stand out suggestions are optional. If you decide to pursue the \"stand out suggestions\", you can include the code in this Ipython notebook and also discuss the results in the writeup file.\n",
    "\n",
    "\n",
    ">**Note:** Code and Markdown cells can be executed using the **Shift + Enter** keyboard shortcut. In addition, Markdown cells can be edited by typically double-clicking the cell to enter edit mode."
   ]
  },
  {
   "cell_type": "markdown",
   "metadata": {},
   "source": [
    "---\n",
    "## Step 0: Load The Data"
   ]
  },
  {
   "cell_type": "code",
   "execution_count": 27,
   "metadata": {
    "ExecuteTime": {
     "end_time": "2017-02-07T09:28:36.578517",
     "start_time": "2017-02-07T09:28:36.242916"
    },
    "collapsed": false
   },
   "outputs": [],
   "source": [
    "# Load pickled data\n",
    "import pickle\n",
    "\n",
    "# TODO: Fill this in based on where you saved the training and testing data\n",
    "\n",
<<<<<<< HEAD
    "training_file = \"train.p\"\n",
    "testing_file = \"test.p\"\n",
=======
    "training_file = ?\n",
    "validation_file=?\n",
    "testing_file = ?\n",
>>>>>>> 25336f1f4afac8071ef8355f68cb3a43dfe47c54
    "\n",
    "with open(training_file, mode='rb') as f:\n",
    "    train = pickle.load(f)\n",
    "with open(validation_file, mode='rb') as f:\n",
    "    valid = pickle.load(f)\n",
    "with open(testing_file, mode='rb') as f:\n",
    "    test = pickle.load(f)\n",
<<<<<<< HEAD
    "\n",
    "X_train_load, y_train_load = train['features'], train['labels']\n",
=======
    "    \n",
    "X_train, y_train = train['features'], train['labels']\n",
    "X_valid, y_valid = valid['features'], valid['labels']\n",
>>>>>>> 25336f1f4afac8071ef8355f68cb3a43dfe47c54
    "X_test, y_test = test['features'], test['labels']"
   ]
  },
  {
   "cell_type": "markdown",
   "metadata": {},
   "source": [
    "---\n",
    "\n",
    "## Step 1: Dataset Summary & Exploration\n",
    "\n",
    "The pickled data is a dictionary with 4 key/value pairs:\n",
    "\n",
    "- `'features'` is a 4D array containing raw pixel data of the traffic sign images, (num examples, width, height, channels).\n",
    "- `'labels'` is a 1D array containing the label/class id of the traffic sign. The file `signnames.csv` contains id -> name mappings for each id.\n",
    "- `'sizes'` is a list containing tuples, (width, height) representing the the original width and height the image.\n",
    "- `'coords'` is a list containing tuples, (x1, y1, x2, y2) representing coordinates of a bounding box around the sign in the image. **THESE COORDINATES ASSUME THE ORIGINAL IMAGE. THE PICKLED DATA CONTAINS RESIZED VERSIONS (32 by 32) OF THESE IMAGES**\n",
    "\n",
    "Complete the basic data summary below. Use python, numpy and/or pandas methods to calculate the data summary rather than hard coding the results. For example, the [pandas shape method](http://pandas.pydata.org/pandas-docs/stable/generated/pandas.DataFrame.shape.html) might be useful for calculating some of the summary results. "
   ]
  },
  {
   "cell_type": "markdown",
   "metadata": {},
   "source": [
    "### Provide a Basic Summary of the Data Set Using Python, Numpy and/or Pandas"
   ]
  },
  {
   "cell_type": "code",
   "execution_count": 28,
   "metadata": {
    "ExecuteTime": {
     "end_time": "2017-02-07T09:28:39.820787",
     "start_time": "2017-02-07T09:28:39.810451"
    },
    "collapsed": false
   },
   "outputs": [],
   "source": [
    "\n",
    "import pandas as pd\n",
    "\n",
    "df= pd.read_csv('signnames.csv')\n",
    "\n"
   ]
  },
  {
   "cell_type": "code",
   "execution_count": 30,
   "metadata": {
    "ExecuteTime": {
     "end_time": "2017-02-07T09:29:12.801794",
     "start_time": "2017-02-07T09:29:12.789528"
    },
    "collapsed": false
   },
   "outputs": [
    {
     "name": "stdout",
     "output_type": "stream",
     "text": [
      "Number of training examples = 39209\n",
      "Number of testing examples = 12630\n",
      "Image data shape = (32, 32, 3)\n",
      "Number of classes = 43\n"
     ]
    }
   ],
   "source": [
    "### Replace each question mark with the appropriate value. \n",
    "### Use python, pandas or numpy methods rather than hard coding the results\n",
    "\n",
    "\n",
    "# TODO: Number of training examples\n",
    "n_train = len(X_train_load)\n",
    "\n",
    "# TODO: Number of testing examples.\n",
    "n_test = len(X_test)\n",
    "\n",
    "# TODO: What's the shape of an traffic sign image?\n",
    "image_shape = X_train_load[0].shape\n",
    "\n",
    "# TODO: How many unique classes/labels there are in the dataset.\n",
    "n_classes = len(set(y_train_load))\n",
    "\n",
    "print(\"Number of training examples =\", n_train)\n",
    "print(\"Number of testing examples =\", n_test)\n",
    "print(\"Image data shape =\", image_shape)\n",
    "print(\"Number of classes =\", n_classes)"
   ]
  },
  {
   "cell_type": "markdown",
   "metadata": {},
   "source": [
    "### Include an exploratory visualization of the dataset"
   ]
  },
  {
   "cell_type": "markdown",
   "metadata": {},
   "source": [
    "Visualize the German Traffic Signs Dataset using the pickled file(s). This is open ended, suggestions include: plotting traffic sign images, plotting the count of each sign, etc.\n",
    "\n",
    "The [Matplotlib](http://matplotlib.org/) [examples](http://matplotlib.org/examples/index.html) and [gallery](http://matplotlib.org/gallery.html) pages are a great resource for doing visualizations in Python.\n",
    "\n",
    "**NOTE:** It's recommended you start with something simple first. If you wish to do more, come back to it after you've completed the rest of the sections."
   ]
  },
  {
   "cell_type": "code",
   "execution_count": 36,
   "metadata": {
    "ExecuteTime": {
     "end_time": "2017-02-07T09:36:03.099878",
     "start_time": "2017-02-07T09:36:02.993027"
    },
    "collapsed": false
   },
   "outputs": [
    {
     "name": "stdout",
     "output_type": "stream",
     "text": [
      "25\n",
      "Road work\n"
     ]
    },
    {
     "data": {
      "image/png": "iVBORw0KGgoAAAANSUhEUgAAAFsAAABZCAYAAABR/liSAAAABHNCSVQICAgIfAhkiAAAAAlwSFlz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\nQywAAAAASUVORK5CYII=\n",
      "text/plain": [
       "<matplotlib.figure.Figure at 0x123aa3be0>"
      ]
     },
     "metadata": {},
     "output_type": "display_data"
    }
   ],
   "source": [
    "### Data exploration visualization code goes here.\n",
    "### Feel free to use as many code cells as needed.\n",
    "import matplotlib.pyplot as plt\n",
    "# Visualizations will be shown in the notebook.\n",
    "%matplotlib inline\n",
    "\n",
    "import random\n",
    "\n",
    "index = random.randint(0, len(X_train_load))\n",
    "image = X_train_load[index].squeeze()\n",
    "\n",
    "plt.figure(figsize=(1,1))\n",
    "plt.imshow(image, cmap=\"gray\")\n",
    "\n",
    "\n",
    "print(y_train_load[index])\n",
    "print(df.ix[y_train_load[index],1])"
   ]
  },
  {
   "cell_type": "markdown",
   "metadata": {},
   "source": [
    "----\n",
    "\n",
    "## Step 2: Design and Test a Model Architecture\n",
    "\n",
    "Design and implement a deep learning model that learns to recognize traffic signs. Train and test your model on the [German Traffic Sign Dataset](http://benchmark.ini.rub.de/?section=gtsrb&subsection=dataset).\n",
    "\n",
    "There are various aspects to consider when thinking about this problem:\n",
    "\n",
    "- Neural network architecture\n",
    "- Play around preprocessing techniques (normalization, rgb to grayscale, etc)\n",
    "- Number of examples per label (some have more than others).\n",
    "- Generate fake data.\n",
    "\n",
    "Here is an example of a [published baseline model on this problem](http://yann.lecun.com/exdb/publis/pdf/sermanet-ijcnn-11.pdf). It's not required to be familiar with the approach used in the paper but, it's good practice to try to read papers like these.\n",
    "\n",
    "**NOTE:** The LeNet-5 implementation shown in the [classroom](https://classroom.udacity.com/nanodegrees/nd013/parts/fbf77062-5703-404e-b60c-95b78b2f3f9e/modules/6df7ae49-c61c-4bb2-a23e-6527e69209ec/lessons/601ae704-1035-4287-8b11-e2c2716217ad/concepts/d4aca031-508f-4e0b-b493-e7b706120f81) at the end of the CNN lesson is a solid starting point. You'll have to change the number of classes and possibly the preprocessing, but aside from that it's plug and play!"
   ]
  },
  {
   "cell_type": "markdown",
   "metadata": {},
   "source": [
    "### Pre-process the Data Set (normalization, grayscale, etc.)"
   ]
  },
  {
   "cell_type": "markdown",
   "metadata": {},
   "source": [
    "Use the code cell (or multiple code cells, if necessary) to implement the first step of your project."
   ]
  },
  {
   "cell_type": "code",
   "execution_count": 4,
   "metadata": {
    "collapsed": true
   },
   "outputs": [],
   "source": [
    "### Preprocess the data here. Preprocessing steps could include normalization, converting to grayscale, etc.\n",
    "### Feel free to use as many code cells as needed.\n",
    "\n"
   ]
  },
  {
   "cell_type": "markdown",
   "metadata": {},
   "source": [
<<<<<<< HEAD
    "### Split Data into Training, Validation and Testing Sets"
   ]
  },
  {
   "cell_type": "code",
   "execution_count": 56,
   "metadata": {
    "ExecuteTime": {
     "end_time": "2017-02-07T09:41:46.428899",
     "start_time": "2017-02-07T09:41:46.295623"
    },
    "collapsed": false
   },
   "outputs": [
    {
     "name": "stdout",
     "output_type": "stream",
     "text": [
      "Number of training set = 31367\n",
      "Number of validation set = 7842\n"
     ]
    }
   ],
   "source": [
    "### Split the data into training/validation/testing sets here.\n",
    "### Feel free to use as many code cells as needed.\n",
    "from sklearn.utils import shuffle\n",
    "from sklearn.cross_validation import train_test_split\n",
    "\n",
    "\n",
    "\n",
    "X_train,X_validation,y_train,y_validation = train_test_split(X_train_load,y_train_load,test_size=0.2)\n",
    "X_train, y_train = shuffle(X_train, y_train)\n",
    "\n",
    "\n",
    "\n",
    "print(\"Number of training set =\", len(X_train))\n",
    "print(\"Number of validation set =\", len(X_validation))"
   ]
  },
  {
   "cell_type": "markdown",
   "metadata": {},
   "source": [
=======
>>>>>>> 25336f1f4afac8071ef8355f68cb3a43dfe47c54
    "### Model Architecture"
   ]
  },
  {
   "cell_type": "code",
   "execution_count": null,
   "metadata": {
    "collapsed": true
   },
   "outputs": [],
   "source": [
    "### Define your architecture here.\n",
    "### Feel free to use as many code cells as needed."
   ]
  },
  {
   "cell_type": "code",
   "execution_count": 89,
   "metadata": {
    "ExecuteTime": {
     "end_time": "2017-02-07T10:47:00.198078",
     "start_time": "2017-02-07T10:47:00.194859"
    },
    "collapsed": true
   },
   "outputs": [],
   "source": [
    "import tensorflow as tf\n",
    "\n",
    "EPOCHS = 10\n",
    "BATCH_SIZE = 128"
   ]
  },
  {
   "cell_type": "code",
   "execution_count": 90,
   "metadata": {
    "ExecuteTime": {
     "end_time": "2017-02-07T10:47:01.601670",
     "start_time": "2017-02-07T10:47:01.547373"
    },
    "collapsed": true
   },
   "outputs": [],
   "source": [
    "from tensorflow.contrib.layers import flatten\n",
    "\n",
    "def LeNet(x):    \n",
    "    # Arguments used for tf.truncated_normal, randomly defines variables for the weights and biases for each layer\n",
    "    mu = 0\n",
    "    sigma = 0.1\n",
    "    \n",
    "    # SOLUTION: Layer 1: Convolutional. Input = 32x32x3. Output = 28x28x6.\n",
    "    conv1_W = tf.Variable(tf.truncated_normal(shape=(5, 5, 3, 6), mean = mu, stddev = sigma))\n",
    "    conv1_b = tf.Variable(tf.zeros(6))\n",
    "    conv1   = tf.nn.conv2d(x, conv1_W, strides=[1, 1, 1, 1], padding='VALID') + conv1_b\n",
    "\n",
    "    # SOLUTION: Activation.\n",
    "    conv1 = tf.nn.relu(conv1)\n",
    "\n",
    "    # SOLUTION: Pooling. Input = 28x28x6. Output = 14x14x6.\n",
    "    conv1 = tf.nn.max_pool(conv1, ksize=[1, 2, 2, 1], strides=[1, 2, 2, 1], padding='VALID')\n",
    "\n",
    "    # SOLUTION: Layer 2: Convolutional. Output = 10x10x16.\n",
    "    conv2_W = tf.Variable(tf.truncated_normal(shape=(5, 5, 6, 16), mean = mu, stddev = sigma))\n",
    "    conv2_b = tf.Variable(tf.zeros(16))\n",
    "    conv2   = tf.nn.conv2d(conv1, conv2_W, strides=[1, 1, 1, 1], padding='VALID') + conv2_b\n",
    "    \n",
    "    # SOLUTION: Activation.\n",
    "    conv2 = tf.nn.relu(conv2)\n",
    "\n",
    "    # SOLUTION: Pooling. Input = 10x10x16. Output = 5x5x16.\n",
    "    conv2 = tf.nn.max_pool(conv2, ksize=[1, 2, 2, 1], strides=[1, 2, 2, 1], padding='VALID')\n",
    "\n",
    "    # SOLUTION: Flatten. Input = 5x5x16. Output = 400.\n",
    "    fc0   = flatten(conv2)\n",
    "    \n",
    "    # SOLUTION: Layer 3: Fully Connected. Input = 400. Output = 120.\n",
    "    fc1_W = tf.Variable(tf.truncated_normal(shape=(400, 120), mean = mu, stddev = sigma))\n",
    "    fc1_b = tf.Variable(tf.zeros(120))\n",
    "    fc1   = tf.matmul(fc0, fc1_W) + fc1_b\n",
    "    \n",
    "    # SOLUTION: Activation.\n",
    "    fc1    = tf.nn.relu(fc1)\n",
    "\n",
    "    # SOLUTION: Layer 4: Fully Connected. Input = 120. Output = 84.\n",
    "    fc2_W  = tf.Variable(tf.truncated_normal(shape=(120, 84), mean = mu, stddev = sigma))\n",
    "    fc2_b  = tf.Variable(tf.zeros(84))\n",
    "    fc2    = tf.matmul(fc1, fc2_W) + fc2_b\n",
    "    \n",
    "    # SOLUTION: Activation.\n",
    "    fc2    = tf.nn.relu(fc2)\n",
    "\n",
    "    # SOLUTION: Layer 5: Fully Connected. Input = 84. Output = 10.\n",
    "    fc3_W  = tf.Variable(tf.truncated_normal(shape=(84, 43), mean = mu, stddev = sigma))\n",
    "    fc3_b  = tf.Variable(tf.zeros(43))\n",
    "    logits = tf.matmul(fc2, fc3_W) + fc3_b\n",
    "    \n",
    "    return logits"
   ]
  },
  {
   "cell_type": "code",
   "execution_count": 91,
   "metadata": {
    "ExecuteTime": {
     "end_time": "2017-02-07T10:47:02.598650",
     "start_time": "2017-02-07T10:47:02.586979"
    },
    "collapsed": true
   },
   "outputs": [],
   "source": [
    "x = tf.placeholder(tf.float32, (None, 32, 32, 3))\n",
    "y = tf.placeholder(tf.int32, (None))\n",
    "one_hot_y = tf.one_hot(y, 43)"
   ]
  },
  {
   "cell_type": "markdown",
   "metadata": {},
   "source": [
    "### Train, Validate and Test the Model"
   ]
  },
  {
   "cell_type": "markdown",
   "metadata": {},
   "source": [
    "A validation set can be used to assess how well the model is performing. A low accuracy on the training and validation\n",
    "sets imply underfitting. A high accuracy on the test set but low accuracy on the validation set implies overfitting."
   ]
  },
  {
   "cell_type": "code",
   "execution_count": 92,
   "metadata": {
    "ExecuteTime": {
     "end_time": "2017-02-07T10:47:04.639275",
     "start_time": "2017-02-07T10:47:04.636252"
    },
    "collapsed": true
   },
   "outputs": [],
   "source": [
    "### Train your model here.\n",
    "### Calculate and report the accuracy on the training and validation set.\n",
    "### Once a final model architecture is selected, \n",
    "### the accuracy on the test set should be calculated and reported as well.\n",
    "### Feel free to use as many code cells as needed."
   ]
  },
  {
   "cell_type": "code",
   "execution_count": 93,
   "metadata": {
    "ExecuteTime": {
     "end_time": "2017-02-07T10:47:05.745905",
     "start_time": "2017-02-07T10:47:05.321237"
    },
    "collapsed": false
   },
   "outputs": [],
   "source": [
    "rate = 0.001\n",
    "\n",
    "logits = LeNet(x)\n",
    "cross_entropy = tf.nn.softmax_cross_entropy_with_logits(logits, one_hot_y)\n",
    "loss_operation = tf.reduce_mean(cross_entropy)\n",
    "optimizer = tf.train.AdamOptimizer(learning_rate = rate)\n",
    "training_operation = optimizer.minimize(loss_operation)"
   ]
  },
  {
   "cell_type": "code",
   "execution_count": 94,
   "metadata": {
    "ExecuteTime": {
     "end_time": "2017-02-07T10:47:06.487625",
     "start_time": "2017-02-07T10:47:05.854459"
    },
    "collapsed": true
   },
   "outputs": [],
   "source": [
    "correct_prediction = tf.equal(tf.argmax(logits, 1), tf.argmax(one_hot_y, 1))\n",
    "accuracy_operation = tf.reduce_mean(tf.cast(correct_prediction, tf.float32))\n",
    "saver = tf.train.Saver()\n",
    "\n",
    "def evaluate(X_data, y_data):\n",
    "    num_examples = len(X_data)\n",
    "    total_accuracy = 0\n",
    "    sess = tf.get_default_session()\n",
    "    for offset in range(0, num_examples, BATCH_SIZE):\n",
    "        batch_x, batch_y = X_data[offset:offset+BATCH_SIZE], y_data[offset:offset+BATCH_SIZE]\n",
    "        accuracy = sess.run(accuracy_operation, feed_dict={x: batch_x, y: batch_y})\n",
    "        total_accuracy += (accuracy * len(batch_x))\n",
    "    return total_accuracy / num_examples"
   ]
  },
  {
   "cell_type": "code",
   "execution_count": 96,
   "metadata": {
    "ExecuteTime": {
     "end_time": "2017-02-07T16:10:17.953536",
     "start_time": "2017-02-07T16:06:31.589689"
    },
    "collapsed": false
   },
   "outputs": [
    {
     "name": "stdout",
     "output_type": "stream",
     "text": [
      "Training...\n",
      "\n",
      "EPOCH 1 ...\n",
      "Validation Accuracy = 0.561\n",
      "\n",
      "EPOCH 2 ...\n",
      "Validation Accuracy = 0.775\n",
      "\n",
      "EPOCH 3 ...\n",
      "Validation Accuracy = 0.875\n",
      "\n",
      "EPOCH 4 ...\n",
      "Validation Accuracy = 0.906\n",
      "\n",
      "EPOCH 5 ...\n",
      "Validation Accuracy = 0.918\n",
      "\n",
      "EPOCH 6 ...\n",
      "Validation Accuracy = 0.947\n",
      "\n",
      "EPOCH 7 ...\n",
      "Validation Accuracy = 0.940\n",
      "\n",
      "EPOCH 8 ...\n",
      "Validation Accuracy = 0.940\n",
      "\n",
      "EPOCH 9 ...\n",
      "Validation Accuracy = 0.943\n",
      "\n",
      "EPOCH 10 ...\n",
      "Validation Accuracy = 0.962\n",
      "\n",
      "Model saved\n"
     ]
    }
   ],
   "source": [
    "with tf.Session() as sess:\n",
    "    sess.run(tf.global_variables_initializer())\n",
    "    num_examples = len(X_train)\n",
    "    \n",
    "    print(\"Training...\")\n",
    "    print()\n",
    "    for i in range(EPOCHS):\n",
    "        X_train, y_train = shuffle(X_train, y_train)\n",
    "        for offset in range(0, num_examples, BATCH_SIZE):\n",
    "            end = offset + BATCH_SIZE\n",
    "            batch_x, batch_y = X_train[offset:end], y_train[offset:end]\n",
    "            sess.run(training_operation, feed_dict={x: batch_x, y: batch_y})\n",
    "            \n",
    "        validation_accuracy = evaluate(X_validation, y_validation)\n",
    "        print(\"EPOCH {} ...\".format(i+1))\n",
    "        print(\"Validation Accuracy = {:.3f}\".format(validation_accuracy))\n",
    "        print()\n",
    "        \n",
    "    saver.save(sess, './lenet')\n",
    "    print(\"Model saved\")"
   ]
  },
  {
   "cell_type": "markdown",
   "metadata": {},
   "source": [
    "---\n",
    "\n",
    "## Step 3: Test a Model on New Images\n",
    "\n",
    "To give yourself more insight into how your model is working, download at least five pictures of German traffic signs from the web and use your model to predict the traffic sign type.\n",
    "\n",
    "You may find `signnames.csv` useful as it contains mappings from the class id (integer) to the actual sign name."
   ]
  },
  {
   "cell_type": "markdown",
   "metadata": {},
   "source": [
    "### Load and Output the Images"
   ]
  },
  {
   "cell_type": "code",
   "execution_count": null,
   "metadata": {
    "collapsed": true
   },
   "outputs": [],
   "source": [
    "### Load the images and plot them here.\n",
    "### Feel free to use as many code cells as needed."
   ]
  },
  {
   "cell_type": "markdown",
   "metadata": {},
   "source": [
    "### Predict the Sign Type for Each Image"
   ]
  },
  {
   "cell_type": "code",
   "execution_count": 3,
   "metadata": {
    "collapsed": true
   },
   "outputs": [],
   "source": [
    "### Run the predictions here and use the model to output the prediction for each image.\n",
    "### Make sure to pre-process the images with the same pre-processing pipeline used earlier.\n",
    "### Feel free to use as many code cells as needed."
   ]
  },
  {
   "cell_type": "markdown",
   "metadata": {},
   "source": [
    "### Analyze Performance"
   ]
  },
  {
   "cell_type": "code",
   "execution_count": 4,
   "metadata": {
    "collapsed": true
   },
   "outputs": [],
   "source": [
    "### Calculate the accuracy for these 5 new images. \n",
    "### For example, if the model predicted 1 out of 5 signs correctly, it's 20% accurate on these new images."
   ]
  },
  {
   "cell_type": "markdown",
   "metadata": {},
   "source": [
    "### Output Top 5 Softmax Probabilities For Each Image Found on the Web"
   ]
  },
  {
   "cell_type": "markdown",
   "metadata": {},
   "source": [
    "For each of the new images, print out the model's softmax probabilities to show the **certainty** of the model's predictions (limit the output to the top 5 probabilities for each image). [`tf.nn.top_k`](https://www.tensorflow.org/versions/r0.12/api_docs/python/nn.html#top_k) could prove helpful here. \n",
    "\n",
    "The example below demonstrates how tf.nn.top_k can be used to find the top k predictions for each image.\n",
    "\n",
    "`tf.nn.top_k` will return the values and indices (class ids) of the top k predictions. So if k=3, for each sign, it'll return the 3 largest probabilities (out of a possible 43) and the correspoding class ids.\n",
    "\n",
    "Take this numpy array as an example. The values in the array represent predictions. The array contains softmax probabilities for five candidate images with six possible classes. `tk.nn.top_k` is used to choose the three classes with the highest probability:\n",
    "\n",
    "```\n",
    "# (5, 6) array\n",
    "a = np.array([[ 0.24879643,  0.07032244,  0.12641572,  0.34763842,  0.07893497,\n",
    "         0.12789202],\n",
    "       [ 0.28086119,  0.27569815,  0.08594638,  0.0178669 ,  0.18063401,\n",
    "         0.15899337],\n",
    "       [ 0.26076848,  0.23664738,  0.08020603,  0.07001922,  0.1134371 ,\n",
    "         0.23892179],\n",
    "       [ 0.11943333,  0.29198961,  0.02605103,  0.26234032,  0.1351348 ,\n",
    "         0.16505091],\n",
    "       [ 0.09561176,  0.34396535,  0.0643941 ,  0.16240774,  0.24206137,\n",
    "         0.09155967]])\n",
    "```\n",
    "\n",
    "Running it through `sess.run(tf.nn.top_k(tf.constant(a), k=3))` produces:\n",
    "\n",
    "```\n",
    "TopKV2(values=array([[ 0.34763842,  0.24879643,  0.12789202],\n",
    "       [ 0.28086119,  0.27569815,  0.18063401],\n",
    "       [ 0.26076848,  0.23892179,  0.23664738],\n",
    "       [ 0.29198961,  0.26234032,  0.16505091],\n",
    "       [ 0.34396535,  0.24206137,  0.16240774]]), indices=array([[3, 0, 5],\n",
    "       [0, 1, 4],\n",
    "       [0, 5, 1],\n",
    "       [1, 3, 5],\n",
    "       [1, 4, 3]], dtype=int32))\n",
    "```\n",
    "\n",
    "Looking just at the first row we get `[ 0.34763842,  0.24879643,  0.12789202]`, you can confirm these are the 3 largest probabilities in `a`. You'll also notice `[3, 0, 5]` are the corresponding indices."
   ]
  },
  {
   "cell_type": "code",
   "execution_count": 6,
   "metadata": {
    "collapsed": true
   },
   "outputs": [],
   "source": [
    "### Print out the top five softmax probabilities for the predictions on the German traffic sign images found on the web. \n",
    "### Feel free to use as many code cells as needed."
   ]
  },
  {
   "cell_type": "markdown",
   "metadata": {},
   "source": [
    "> **Note**: Once you have completed all of the code implementations, you need to finalize your work by exporting the IPython Notebook as an HTML document. Before exporting the notebook to html, all of the code cells need to have been run. You can then export the notebook by using the menu above and navigating to  \\n\",\n",
    "    \"**File -> Download as -> HTML (.html)**. Include the finished document along with this notebook as your submission. "
   ]
  },
  {
   "cell_type": "markdown",
   "metadata": {},
   "source": [
    "### Project Writeup\n",
    "\n",
    "Once you have completed the code implementation, document your results in a project writeup using this [template](https://github.com/udacity/CarND-Traffic-Sign-Classifier-Project/blob/master/writeup_template.md) as a guide. The writeup can be in a markdown or pdf file. "
   ]
  },
  {
   "cell_type": "code",
   "execution_count": null,
   "metadata": {
    "collapsed": true
   },
   "outputs": [],
   "source": []
  }
 ],
 "metadata": {
  "anaconda-cloud": {},
  "kernelspec": {
   "display_name": "Python 3",
   "language": "python",
   "name": "python3"
  },
  "language_info": {
   "codemirror_mode": {
    "name": "ipython",
    "version": 3
   },
   "file_extension": ".py",
   "mimetype": "text/x-python",
   "name": "python",
   "nbconvert_exporter": "python",
   "pygments_lexer": "ipython3",
   "version": "3.5.2"
  },
  "toc": {
   "colors": {
    "hover_highlight": "#DAA520",
    "running_highlight": "#FF0000",
    "selected_highlight": "#FFD700"
   },
   "moveMenuLeft": true,
   "nav_menu": {
    "height": "336px",
    "width": "252px"
   },
   "navigate_menu": true,
   "number_sections": true,
   "sideBar": true,
   "threshold": 4,
   "toc_cell": false,
   "toc_section_display": "block",
   "toc_window_display": false
  },
  "widgets": {
   "state": {},
   "version": "1.1.2"
  }
 },
 "nbformat": 4,
 "nbformat_minor": 1
}
