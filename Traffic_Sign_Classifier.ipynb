{
 "cells": [
  {
   "cell_type": "markdown",
   "metadata": {
    "deletable": true,
    "editable": true
   },
   "source": [
    "# Self-Driving Car Engineer Nanodegree\n",
    "\n",
    "## Deep Learning\n",
    "\n",
    "## Project: Build a Traffic Sign Recognition Classifier\n",
    "\n",
    "In this notebook, a template is provided for you to implement your functionality in stages, which is required to successfully complete this project. If additional code is required that cannot be included in the notebook, be sure that the Python code is successfully imported and included in your submission if necessary. \n",
    "\n",
    "> **Note**: Once you have completed all of the code implementations, you need to finalize your work by exporting the iPython Notebook as an HTML document. Before exporting the notebook to html, all of the code cells need to have been run so that reviewers can see the final implementation and output. You can then export the notebook by using the menu above and navigating to  \\n\",\n",
    "    \"**File -> Download as -> HTML (.html)**. Include the finished document along with this notebook as your submission. \n",
    "\n",
    "In addition to implementing code, there is a writeup to complete. The writeup should be completed in a separate file, which can be either a markdown file or a pdf document. There is a [write up template](https://github.com/udacity/CarND-Traffic-Sign-Classifier-Project/blob/master/writeup_template.md) that can be used to guide the writing process. Completing the code template and writeup template will cover all of the [rubric points](https://review.udacity.com/#!/rubrics/481/view) for this project.\n",
    "\n",
    "The [rubric](https://review.udacity.com/#!/rubrics/481/view) contains \"Stand Out Suggestions\" for enhancing the project beyond the minimum requirements. The stand out suggestions are optional. If you decide to pursue the \"stand out suggestions\", you can include the code in this Ipython notebook and also discuss the results in the writeup file.\n",
    "\n",
    "\n",
    ">**Note:** Code and Markdown cells can be executed using the **Shift + Enter** keyboard shortcut. In addition, Markdown cells can be edited by typically double-clicking the cell to enter edit mode."
   ]
  },
  {
   "cell_type": "markdown",
   "metadata": {
    "deletable": true,
    "editable": true
   },
   "source": [
    "---\n",
    "## Step 0: Load The Data"
   ]
  },
  {
   "cell_type": "code",
   "execution_count": 2,
   "metadata": {
    "ExecuteTime": {
     "end_time": "2017-02-07T09:28:36.578517",
     "start_time": "2017-02-07T09:28:36.242916"
    },
    "collapsed": false,
    "deletable": true,
    "editable": true
   },
   "outputs": [],
   "source": [
    "# Load pickled data\n",
    "import pickle\n",
    "\n",
    "# TODO: Fill this in based on where you saved the training and testing data\n",
    "\n",
    "training_file = \"train.p\"\n",
    "testing_file = \"test.p\"\n",
    "\n",
    "with open(training_file, mode='rb') as f:\n",
    "    train = pickle.load(f)\n",
    "with open(testing_file, mode='rb') as f:\n",
    "    test = pickle.load(f)\n",
    "\n",
    "X_train_load, y_train_load = train['features'], train['labels']\n",
    "X_test, y_test = test['features'], test['labels']"
   ]
  },
  {
   "cell_type": "markdown",
   "metadata": {
    "deletable": true,
    "editable": true
   },
   "source": [
    "---\n",
    "\n",
    "## Step 1: Dataset Summary & Exploration\n",
    "\n",
    "The pickled data is a dictionary with 4 key/value pairs:\n",
    "\n",
    "- `'features'` is a 4D array containing raw pixel data of the traffic sign images, (num examples, width, height, channels).\n",
    "- `'labels'` is a 1D array containing the label/class id of the traffic sign. The file `signnames.csv` contains id -> name mappings for each id.\n",
    "- `'sizes'` is a list containing tuples, (width, height) representing the the original width and height the image.\n",
    "- `'coords'` is a list containing tuples, (x1, y1, x2, y2) representing coordinates of a bounding box around the sign in the image. **THESE COORDINATES ASSUME THE ORIGINAL IMAGE. THE PICKLED DATA CONTAINS RESIZED VERSIONS (32 by 32) OF THESE IMAGES**\n",
    "\n",
    "Complete the basic data summary below. Use python, numpy and/or pandas methods to calculate the data summary rather than hard coding the results. For example, the [pandas shape method](http://pandas.pydata.org/pandas-docs/stable/generated/pandas.DataFrame.shape.html) might be useful for calculating some of the summary results. "
   ]
  },
  {
   "cell_type": "markdown",
   "metadata": {
    "deletable": true,
    "editable": true
   },
   "source": [
    "### Provide a Basic Summary of the Data Set Using Python, Numpy and/or Pandas"
   ]
  },
  {
   "cell_type": "code",
   "execution_count": 10,
   "metadata": {
    "ExecuteTime": {
     "end_time": "2017-02-07T09:28:39.820787",
     "start_time": "2017-02-07T09:28:39.810451"
    },
    "collapsed": false,
    "deletable": true,
    "editable": true
   },
   "outputs": [],
   "source": [
    "import pandas as pd\n",
    "\n",
    "df= pd.read_csv('signnames.csv')"
   ]
  },
  {
   "cell_type": "code",
   "execution_count": 11,
   "metadata": {
    "ExecuteTime": {
     "end_time": "2017-02-07T09:29:12.801794",
     "start_time": "2017-02-07T09:29:12.789528"
    },
    "collapsed": false,
    "deletable": true,
    "editable": true
   },
   "outputs": [
    {
     "name": "stdout",
     "output_type": "stream",
     "text": [
      "Number of training examples = 39209\n",
      "Number of testing examples = 7842\n",
      "Image data shape = (32, 32, 3)\n",
      "Number of classes = 43\n"
     ]
    }
   ],
   "source": [
    "### Replace each question mark with the appropriate value. \n",
    "### Use python, pandas or numpy methods rather than hard coding the results\n",
    "\n",
    "\n",
    "# TODO: Number of training examples\n",
    "n_train = len(X_train_load)\n",
    "\n",
    "# TODO: Number of testing examples.\n",
    "n_test = len(X_test)\n",
    "\n",
    "# TODO: What's the shape of an traffic sign image?\n",
    "image_shape = X_train_load[0].shape\n",
    "\n",
    "# TODO: How many unique classes/labels there are in the dataset.\n",
    "n_classes = len(set(y_train_load))\n",
    "\n",
    "print(\"Number of training examples =\", n_train)\n",
    "print(\"Number of testing examples =\", n_test)\n",
    "print(\"Image data shape =\", image_shape)\n",
    "print(\"Number of classes =\", n_classes)"
   ]
  },
  {
   "cell_type": "markdown",
   "metadata": {
    "deletable": true,
    "editable": true
   },
   "source": [
    "### Include an exploratory visualization of the dataset"
   ]
  },
  {
   "cell_type": "markdown",
   "metadata": {
    "deletable": true,
    "editable": true
   },
   "source": [
    "Visualize the German Traffic Signs Dataset using the pickled file(s). This is open ended, suggestions include: plotting traffic sign images, plotting the count of each sign, etc.\n",
    "\n",
    "The [Matplotlib](http://matplotlib.org/) [examples](http://matplotlib.org/examples/index.html) and [gallery](http://matplotlib.org/gallery.html) pages are a great resource for doing visualizations in Python.\n",
    "\n",
    "**NOTE:** It's recommended you start with something simple first. If you wish to do more, come back to it after you've completed the rest of the sections."
   ]
  },
  {
   "cell_type": "code",
   "execution_count": 15,
   "metadata": {
    "ExecuteTime": {
     "end_time": "2017-02-07T09:36:03.099878",
     "start_time": "2017-02-07T09:36:02.993027"
    },
    "collapsed": false,
    "deletable": true,
    "editable": true
   },
   "outputs": [
    {
     "name": "stdout",
     "output_type": "stream",
     "text": [
      "18\n",
      "General caution\n"
     ]
    },
    {
     "data": {
      "image/png": "[encoded data removed]",
      "text/plain": [
       "<matplotlib.figure.Figure at 0x7fa25a82db00>"
      ]
     },
     "metadata": {},
     "output_type": "display_data"
    }
   ],
   "source": [
    "### Data exploration visualization code goes here.\n",
    "### Feel free to use as many code cells as needed.\n",
    "import matplotlib.pyplot as plt\n",
    "# Visualizations will be shown in the notebook.\n",
    "% matplotlib inline\n",
    "\n",
    "import random\n",
    "import pandas as pd\n",
    "\n",
    "index = random.randint(0, len(X_train_load))\n",
    "image = X_train_load[index].squeeze()\n",
    "\n",
    "\n",
    "plt.figure(figsize=(1, 1))\n",
    "plt.imshow(image, cmap=\"gray\")\n",
    "\n",
    "print(y_train_load[index])\n",
    "print(df.ix[y_train_load[index], 1])"
   ]
  },
  {
   "cell_type": "code",
   "execution_count": 18,
   "metadata": {
    "collapsed": false,
    "deletable": true,
    "editable": true
   },
   "outputs": [
    {
     "name": "stdout",
     "output_type": "stream",
     "text": [
      "(32, 32, 3)\n"
     ]
    }
   ],
   "source": [
    "index = random.randint(0, len(X_train_load))\n",
    "image = X_train_load[index].squeeze()\n",
    "\n",
    "print(image.shape)\n",
    "\n",
    "\n"
   ]
  },
  {
   "cell_type": "code",
   "execution_count": 6,
   "metadata": {
    "collapsed": false,
    "deletable": true,
    "editable": true
   },
   "outputs": [
    {
     "data": {
      "text/plain": [
       "<Container object of 43 artists>"
      ]
     },
     "execution_count": 6,
     "metadata": {},
     "output_type": "execute_result"
    },
    {
     "data": {
      "image/png": "[encoded data removed]",
      "text/plain": [
       "<matplotlib.figure.Figure at 0x7f7b33018518>"
      ]
     },
     "metadata": {},
     "output_type": "display_data"
    }
   ],
   "source": [
    "import numpy as np\n",
    "#plt.plot(y_train_load)\n",
    "\n",
    "bincount = np.bincount(y_train_load)\n",
    "xlabels = np.arange(len(bincount))\n",
    "plt.bar(xlabels, bincount,width=0.35,color='#d62728' )"
   ]
  },
  {
   "cell_type": "markdown",
   "metadata": {
    "deletable": true,
    "editable": true
   },
   "source": [
    "----\n",
    "\n",
    "## Step 2: Design and Test a Model Architecture\n",
    "\n",
    "Design and implement a deep learning model that learns to recognize traffic signs. Train and test your model on the [German Traffic Sign Dataset](http://benchmark.ini.rub.de/?section=gtsrb&subsection=dataset).\n",
    "\n",
    "There are various aspects to consider when thinking about this problem:\n",
    "\n",
    "- Neural network architecture\n",
    "- Play around preprocessing techniques (normalization, rgb to grayscale, etc)\n",
    "- Number of examples per label (some have more than others).\n",
    "- Generate fake data.\n",
    "\n",
    "Here is an example of a [published baseline model on this problem](http://yann.lecun.com/exdb/publis/pdf/sermanet-ijcnn-11.pdf). It's not required to be familiar with the approach used in the paper but, it's good practice to try to read papers like these.\n",
    "\n",
    "**NOTE:** The LeNet-5 implementation shown in the [classroom](https://classroom.udacity.com/nanodegrees/nd013/parts/fbf77062-5703-404e-b60c-95b78b2f3f9e/modules/6df7ae49-c61c-4bb2-a23e-6527e69209ec/lessons/601ae704-1035-4287-8b11-e2c2716217ad/concepts/d4aca031-508f-4e0b-b493-e7b706120f81) at the end of the CNN lesson is a solid starting point. You'll have to change the number of classes and possibly the preprocessing, but aside from that it's plug and play!"
   ]
  },
  {
   "cell_type": "markdown",
   "metadata": {
    "deletable": true,
    "editable": true
   },
   "source": [
    "### Pre-process the Data Set (normalization, grayscale, etc.)"
   ]
  },
  {
   "cell_type": "markdown",
   "metadata": {
    "deletable": true,
    "editable": true
   },
   "source": [
    "Use the code cell (or multiple code cells, if necessary) to implement the first step of your project."
   ]
  },
  {
   "cell_type": "code",
   "execution_count": 6,
   "metadata": {
    "collapsed": true,
    "deletable": true,
    "editable": true
   },
   "outputs": [],
   "source": [
    "### Preprocess the data here. Preprocessing steps could include normalization, converting to grayscale, etc.\n",
    "### Feel free to use as many code cells as needed."
   ]
  },
  {
   "cell_type": "markdown",
   "metadata": {
    "deletable": true,
    "editable": true
   },
   "source": [
    "### Split Data into Training, Validation and Testing Sets"
   ]
  },
  {
   "cell_type": "code",
   "execution_count": 7,
   "metadata": {
    "ExecuteTime": {
     "end_time": "2017-02-07T09:41:46.428899",
     "start_time": "2017-02-07T09:41:46.295623"
    },
    "collapsed": false,
    "deletable": true,
    "editable": true
   },
   "outputs": [
    {
     "name": "stdout",
     "output_type": "stream",
     "text": [
      "Number of training set = 23525\n",
      "Number of validation set = 7842\n",
      "Number of test set = 7842\n"
     ]
    }
   ],
   "source": [
    "### Split the data into training/validation/testing sets here.\n",
    "### Feel free to use as many code cells as needed.\n",
    "from sklearn.utils import shuffle\n",
    "\n",
    "from sklearn.model_selection import train_test_split\n",
    "\n",
    "\n",
    "X_train, X_rest, y_train, y_rest = train_test_split(X_train_load, y_train_load, test_size=0.4)\n",
    "X_validation, X_test, y_validation, y_test = train_test_split(X_rest, y_rest, test_size=0.5)\n",
    "\n",
    "\n",
    "\n",
    "\n",
    "X_train, y_train = shuffle(X_train, y_train)\n",
    "\n",
    "print(\"Number of training set =\", len(X_train))\n",
    "print(\"Number of validation set =\", len(X_validation))\n",
    "print(\"Number of test set =\", len(X_test))"
   ]
  },
  {
   "cell_type": "markdown",
   "metadata": {
    "deletable": true,
    "editable": true
   },
   "source": [
    "### Model Architecture"
   ]
  },
  {
   "cell_type": "code",
   "execution_count": 8,
   "metadata": {
    "collapsed": true,
    "deletable": true,
    "editable": true
   },
   "outputs": [],
   "source": [
    "### Define your architecture here.\n",
    "### Feel free to use as many code cells as needed."
   ]
  },
  {
   "cell_type": "code",
   "execution_count": 1,
   "metadata": {
    "ExecuteTime": {
     "end_time": "2017-02-07T10:47:00.198078",
     "start_time": "2017-02-07T10:47:00.194859"
    },
    "collapsed": false,
    "deletable": true,
    "editable": true
   },
   "outputs": [],
   "source": [
    "import tensorflow as tf\n",
    "\n",
    "EPOCHS = 10\n",
    "BATCH_SIZE = 128"
   ]
  },
  {
   "cell_type": "code",
   "execution_count": 90,
   "metadata": {
    "ExecuteTime": {
     "end_time": "2017-02-07T10:47:01.601670",
     "start_time": "2017-02-07T10:47:01.547373"
    },
    "collapsed": true,
    "deletable": true,
    "editable": true
   },
   "outputs": [],
   "source": [
    "from tensorflow.contrib.layers import flatten\n",
    "\n",
    "def LeNet(x):    \n",
    "    # Arguments used for tf.truncated_normal, randomly defines variables for the weights and biases for each layer\n",
    "    mu = 0\n",
    "    sigma = 0.1\n",
    "    \n",
    "    # SOLUTION: Layer 1: Convolutional. Input = 32x32x3. Output = 28x28x6.\n",
    "    conv1_W = tf.Variable(tf.truncated_normal(shape=(5, 5, 3, 6), mean = mu, stddev = sigma))\n",
    "    conv1_b = tf.Variable(tf.zeros(6))\n",
    "    conv1   = tf.nn.conv2d(x, conv1_W, strides=[1, 1, 1, 1], padding='VALID') + conv1_b\n",
    "\n",
    "    # SOLUTION: Activation.\n",
    "    conv1 = tf.nn.relu(conv1)\n",
    "\n",
    "    # SOLUTION: Pooling. Input = 28x28x6. Output = 14x14x6.\n",
    "    conv1 = tf.nn.max_pool(conv1, ksize=[1, 2, 2, 1], strides=[1, 2, 2, 1], padding='VALID')\n",
    "\n",
    "    # SOLUTION: Layer 2: Convolutional. Output = 10x10x16.\n",
    "    conv2_W = tf.Variable(tf.truncated_normal(shape=(5, 5, 6, 16), mean = mu, stddev = sigma))\n",
    "    conv2_b = tf.Variable(tf.zeros(16))\n",
    "    conv2   = tf.nn.conv2d(conv1, conv2_W, strides=[1, 1, 1, 1], padding='VALID') + conv2_b\n",
    "    \n",
    "    # SOLUTION: Activation.\n",
    "    conv2 = tf.nn.relu(conv2)\n",
    "\n",
    "    # SOLUTION: Pooling. Input = 10x10x16. Output = 5x5x16.\n",
    "    conv2 = tf.nn.max_pool(conv2, ksize=[1, 2, 2, 1], strides=[1, 2, 2, 1], padding='VALID')\n",
    "\n",
    "    # SOLUTION: Flatten. Input = 5x5x16. Output = 400.\n",
    "    fc0   = flatten(conv2)\n",
    "    \n",
    "    # SOLUTION: Layer 3: Fully Connected. Input = 400. Output = 120.\n",
    "    fc1_W = tf.Variable(tf.truncated_normal(shape=(400, 120), mean = mu, stddev = sigma))\n",
    "    fc1_b = tf.Variable(tf.zeros(120))\n",
    "    fc1   = tf.matmul(fc0, fc1_W) + fc1_b\n",
    "    \n",
    "    # SOLUTION: Activation.\n",
    "    fc1    = tf.nn.relu(fc1)\n",
    "\n",
    "    # SOLUTION: Layer 4: Fully Connected. Input = 120. Output = 84.\n",
    "    fc2_W  = tf.Variable(tf.truncated_normal(shape=(120, 84), mean = mu, stddev = sigma))\n",
    "    fc2_b  = tf.Variable(tf.zeros(84))\n",
    "    fc2    = tf.matmul(fc1, fc2_W) + fc2_b\n",
    "    \n",
    "    # SOLUTION: Activation.\n",
    "    fc2    = tf.nn.relu(fc2)\n",
    "\n",
    "    # SOLUTION: Layer 5: Fully Connected. Input = 84. Output = 10.\n",
    "    fc3_W  = tf.Variable(tf.truncated_normal(shape=(84, 43), mean = mu, stddev = sigma))\n",
    "    fc3_b  = tf.Variable(tf.zeros(43))\n",
    "    logits = tf.matmul(fc2, fc3_W) + fc3_b\n",
    "    \n",
    "    return logits"
   ]
  },
  {
   "cell_type": "code",
   "execution_count": 91,
   "metadata": {
    "ExecuteTime": {
     "end_time": "2017-02-07T10:47:02.598650",
     "start_time": "2017-02-07T10:47:02.586979"
    },
    "collapsed": true,
    "deletable": true,
    "editable": true
   },
   "outputs": [],
   "source": [
    "x = tf.placeholder(tf.float32, (None, 32, 32, 3))\n",
    "y = tf.placeholder(tf.int32, (None))\n",
    "one_hot_y = tf.one_hot(y, 43)"
   ]
  },
  {
   "cell_type": "markdown",
   "metadata": {
    "deletable": true,
    "editable": true
   },
   "source": [
    "### Train, Validate and Test the Model"
   ]
  },
  {
   "cell_type": "markdown",
   "metadata": {
    "deletable": true,
    "editable": true
   },
   "source": [
    "A validation set can be used to assess how well the model is performing. A low accuracy on the training and validation\n",
    "sets imply underfitting. A high accuracy on the test set but low accuracy on the validation set implies overfitting."
   ]
  },
  {
   "cell_type": "code",
   "execution_count": 92,
   "metadata": {
    "ExecuteTime": {
     "end_time": "2017-02-07T10:47:04.639275",
     "start_time": "2017-02-07T10:47:04.636252"
    },
    "collapsed": true,
    "deletable": true,
    "editable": true
   },
   "outputs": [],
   "source": [
    "### Train your model here.\n",
    "### Calculate and report the accuracy on the training and validation set.\n",
    "### Once a final model architecture is selected, \n",
    "### the accuracy on the test set should be calculated and reported as well.\n",
    "### Feel free to use as many code cells as needed."
   ]
  },
  {
   "cell_type": "code",
   "execution_count": 93,
   "metadata": {
    "ExecuteTime": {
     "end_time": "2017-02-07T10:47:05.745905",
     "start_time": "2017-02-07T10:47:05.321237"
    },
    "collapsed": false,
    "deletable": true,
    "editable": true
   },
   "outputs": [],
   "source": [
    "rate = 0.001\n",
    "\n",
    "logits = LeNet(x)\n",
    "cross_entropy = tf.nn.softmax_cross_entropy_with_logits(logits, one_hot_y)\n",
    "loss_operation = tf.reduce_mean(cross_entropy)\n",
    "optimizer = tf.train.AdamOptimizer(learning_rate = rate)\n",
    "training_operation = optimizer.minimize(loss_operation)"
   ]
  },
  {
   "cell_type": "code",
   "execution_count": 94,
   "metadata": {
    "ExecuteTime": {
     "end_time": "2017-02-07T10:47:06.487625",
     "start_time": "2017-02-07T10:47:05.854459"
    },
    "collapsed": true,
    "deletable": true,
    "editable": true
   },
   "outputs": [],
   "source": [
    "correct_prediction = tf.equal(tf.argmax(logits, 1), tf.argmax(one_hot_y, 1))\n",
    "accuracy_operation = tf.reduce_mean(tf.cast(correct_prediction, tf.float32))\n",
    "saver = tf.train.Saver()\n",
    "\n",
    "def evaluate(X_data, y_data):\n",
    "    num_examples = len(X_data)\n",
    "    total_accuracy = 0\n",
    "    sess = tf.get_default_session()\n",
    "    for offset in range(0, num_examples, BATCH_SIZE):\n",
    "        batch_x, batch_y = X_data[offset:offset+BATCH_SIZE], y_data[offset:offset+BATCH_SIZE]\n",
    "        accuracy = sess.run(accuracy_operation, feed_dict={x: batch_x, y: batch_y})\n",
    "        total_accuracy += (accuracy * len(batch_x))\n",
    "    return total_accuracy / num_examples"
   ]
  },
  {
   "cell_type": "code",
   "execution_count": 96,
   "metadata": {
    "ExecuteTime": {
     "end_time": "2017-02-07T16:10:17.953536",
     "start_time": "2017-02-07T16:06:31.589689"
    },
    "collapsed": false,
    "deletable": true,
    "editable": true
   },
   "outputs": [
    {
     "name": "stdout",
     "output_type": "stream",
     "text": [
      "Training...\n",
      "\n",
      "EPOCH 1 ...\n",
      "Validation Accuracy = 0.561\n",
      "\n",
      "EPOCH 2 ...\n",
      "Validation Accuracy = 0.775\n",
      "\n",
      "EPOCH 3 ...\n",
      "Validation Accuracy = 0.875\n",
      "\n",
      "EPOCH 4 ...\n",
      "Validation Accuracy = 0.906\n",
      "\n",
      "EPOCH 5 ...\n",
      "Validation Accuracy = 0.918\n",
      "\n",
      "EPOCH 6 ...\n",
      "Validation Accuracy = 0.947\n",
      "\n",
      "EPOCH 7 ...\n",
      "Validation Accuracy = 0.940\n",
      "\n",
      "EPOCH 8 ...\n",
      "Validation Accuracy = 0.940\n",
      "\n",
      "EPOCH 9 ...\n",
      "Validation Accuracy = 0.943\n",
      "\n",
      "EPOCH 10 ...\n",
      "Validation Accuracy = 0.962\n",
      "\n",
      "Model saved\n"
     ]
    }
   ],
   "source": [
    "with tf.Session() as sess:\n",
    "    sess.run(tf.global_variables_initializer())\n",
    "    num_examples = len(X_train)\n",
    "    \n",
    "    print(\"Training...\")\n",
    "    print()\n",
    "    for i in range(EPOCHS):\n",
    "        X_train, y_train = shuffle(X_train, y_train)\n",
    "        for offset in range(0, num_examples, BATCH_SIZE):\n",
    "            end = offset + BATCH_SIZE\n",
    "            batch_x, batch_y = X_train[offset:end], y_train[offset:end]\n",
    "            sess.run(training_operation, feed_dict={x: batch_x, y: batch_y})\n",
    "            \n",
    "        validation_accuracy = evaluate(X_validation, y_validation)\n",
    "        print(\"EPOCH {} ...\".format(i+1))\n",
    "        print(\"Validation Accuracy = {:.3f}\".format(validation_accuracy))\n",
    "        print()\n",
    "        \n",
    "    saver.save(sess, './lenet')\n",
    "    print(\"Model saved\")"
   ]
  },
  {
   "cell_type": "markdown",
   "metadata": {
    "deletable": true,
    "editable": true
   },
   "source": [
    "---\n",
    "\n",
    "## Step 3: Test a Model on New Images\n",
    "\n",
    "To give yourself more insight into how your model is working, download at least five pictures of German traffic signs from the web and use your model to predict the traffic sign type.\n",
    "\n",
    "You may find `signnames.csv` useful as it contains mappings from the class id (integer) to the actual sign name."
   ]
  },
  {
   "cell_type": "markdown",
   "metadata": {
    "deletable": true,
    "editable": true
   },
   "source": [
    "### Load and Output the Images"
   ]
  },
  {
   "cell_type": "code",
   "execution_count": null,
   "metadata": {
    "collapsed": true,
    "deletable": true,
    "editable": true
   },
   "outputs": [],
   "source": [
    "### Load the images and plot them here.\n",
    "### Feel free to use as many code cells as needed."
   ]
  },
  {
   "cell_type": "markdown",
   "metadata": {
    "deletable": true,
    "editable": true
   },
   "source": [
    "### Predict the Sign Type for Each Image"
   ]
  },
  {
   "cell_type": "code",
   "execution_count": 3,
   "metadata": {
    "collapsed": true,
    "deletable": true,
    "editable": true
   },
   "outputs": [],
   "source": [
    "### Run the predictions here and use the model to output the prediction for each image.\n",
    "### Make sure to pre-process the images with the same pre-processing pipeline used earlier.\n",
    "### Feel free to use as many code cells as needed."
   ]
  },
  {
   "cell_type": "markdown",
   "metadata": {
    "deletable": true,
    "editable": true
   },
   "source": [
    "### Analyze Performance"
   ]
  },
  {
   "cell_type": "code",
   "execution_count": 4,
   "metadata": {
    "collapsed": true,
    "deletable": true,
    "editable": true
   },
   "outputs": [],
   "source": [
    "### Calculate the accuracy for these 5 new images. \n",
    "### For example, if the model predicted 1 out of 5 signs correctly, it's 20% accurate on these new images."
   ]
  },
  {
   "cell_type": "markdown",
   "metadata": {
    "deletable": true,
    "editable": true
   },
   "source": [
    "### Output Top 5 Softmax Probabilities For Each Image Found on the Web"
   ]
  },
  {
   "cell_type": "markdown",
   "metadata": {
    "deletable": true,
    "editable": true
   },
   "source": [
    "For each of the new images, print out the model's softmax probabilities to show the **certainty** of the model's predictions (limit the output to the top 5 probabilities for each image). [`tf.nn.top_k`](https://www.tensorflow.org/versions/r0.12/api_docs/python/nn.html#top_k) could prove helpful here. \n",
    "\n",
    "The example below demonstrates how tf.nn.top_k can be used to find the top k predictions for each image.\n",
    "\n",
    "`tf.nn.top_k` will return the values and indices (class ids) of the top k predictions. So if k=3, for each sign, it'll return the 3 largest probabilities (out of a possible 43) and the correspoding class ids.\n",
    "\n",
    "Take this numpy array as an example. The values in the array represent predictions. The array contains softmax probabilities for five candidate images with six possible classes. `tk.nn.top_k` is used to choose the three classes with the highest probability:\n",
    "\n",
    "```\n",
    "# (5, 6) array\n",
    "a = np.array([[ 0.24879643,  0.07032244,  0.12641572,  0.34763842,  0.07893497,\n",
    "         0.12789202],\n",
    "       [ 0.28086119,  0.27569815,  0.08594638,  0.0178669 ,  0.18063401,\n",
    "         0.15899337],\n",
    "       [ 0.26076848,  0.23664738,  0.08020603,  0.07001922,  0.1134371 ,\n",
    "         0.23892179],\n",
    "       [ 0.11943333,  0.29198961,  0.02605103,  0.26234032,  0.1351348 ,\n",
    "         0.16505091],\n",
    "       [ 0.09561176,  0.34396535,  0.0643941 ,  0.16240774,  0.24206137,\n",
    "         0.09155967]])\n",
    "```\n",
    "\n",
    "Running it through `sess.run(tf.nn.top_k(tf.constant(a), k=3))` produces:\n",
    "\n",
    "```\n",
    "TopKV2(values=array([[ 0.34763842,  0.24879643,  0.12789202],\n",
    "       [ 0.28086119,  0.27569815,  0.18063401],\n",
    "       [ 0.26076848,  0.23892179,  0.23664738],\n",
    "       [ 0.29198961,  0.26234032,  0.16505091],\n",
    "       [ 0.34396535,  0.24206137,  0.16240774]]), indices=array([[3, 0, 5],\n",
    "       [0, 1, 4],\n",
    "       [0, 5, 1],\n",
    "       [1, 3, 5],\n",
    "       [1, 4, 3]], dtype=int32))\n",
    "```\n",
    "\n",
    "Looking just at the first row we get `[ 0.34763842,  0.24879643,  0.12789202]`, you can confirm these are the 3 largest probabilities in `a`. You'll also notice `[3, 0, 5]` are the corresponding indices."
   ]
  },
  {
   "cell_type": "code",
   "execution_count": 1,
   "metadata": {
    "collapsed": false,
    "deletable": true,
    "editable": true,
    "scrolled": false
   },
   "outputs": [
    {
     "name": "stdout",
     "output_type": "stream",
     "text": [
      "Overwriting traffic.py\n"
     ]
    }
   ],
   "source": [
    "%%writefile traffic.py\n",
    "# %load traffic.py\n",
    "# Load pickled data\n",
    "import pickle\n",
    "\n",
    "# TODO: Fill this in based on where you saved the training and testing data\n",
    "\n",
    "training_file = \"train.p\"\n",
    "testing_file = \"test.p\"\n",
    "\n",
    "with open(training_file, mode='rb') as f:\n",
    "    train = pickle.load(f)\n",
    "with open(testing_file, mode='rb') as f:\n",
    "    test = pickle.load(f)\n",
    "\n",
    "X_train_load, y_train_load = train['features'], train['labels']\n",
    "X_test, y_test = test['features'], test['labels']\n",
    "\n",
    "\n",
    "from sklearn.utils import shuffle\n",
    "from sklearn.model_selection import train_test_split\n",
    "\n",
    "\n",
    "print(X_train_load.shape)\n",
    "print(y_train_load.shape)\n",
    "\n",
    "#X_train_load[:,:,:,:] = (X_train_load[:,:,:,:] - 128) \n",
    "\n",
    "\n",
    "import cv2\n",
    "import numpy as np\n",
    "\n",
    "def RGB2YUV(dataset):\n",
    "    s1,s2,s3,s4 = dataset.shape\n",
    "    for i in range(dataset.shape[0]):\n",
    "        dataset[i,:,:,:]=cv2.cvtColor(dataset[i,:,:,:],cv2.COLOR_RGB2YUV)\n",
    "    dataset = np.reshape(dataset[:,:,:,0],(s1,s2,s3,1))\n",
    "    return dataset\n",
    "\n",
    "def RGB2GRY(dataset):\n",
    "    s1,s2,s3,s4 = dataset.shape\n",
    "    for i in range(dataset.shape[0]):\n",
    "        dataset[i,:,:,0]=cv2.cvtColor(dataset[i,:,:,:],cv2.COLOR_RGB2GRAY)\n",
    "    dataset = np.reshape(dataset[:,:,:,0],(s1,s2,s3,1))\n",
    "    return dataset\n",
    "\n",
    "X_train_load = RGB2YUV(X_train_load)\n",
    "\n",
    "\n",
    "X_train, X_rest, y_train, y_rest = train_test_split(X_train_load, y_train_load, test_size=0.4)\n",
    "X_validation, X_test, y_validation, y_test = train_test_split(X_rest, y_rest, test_size=0.5)\n",
    "X_train, y_train = shuffle(X_train, y_train)\n",
    "\n",
    "print(\"Number of training set =\", len(X_train))\n",
    "print(\"Number of validation set =\", len(X_validation))\n",
    "print(\"Number of test set =\", len(X_test))\n",
    "\n",
    "import tensorflow as tf\n",
    "from tensorflow.contrib.layers import flatten\n",
    "\n",
    "\n",
    "\n",
    "def variable_summaries(var,scope_name=\"summaries\"):\n",
    "  \"\"\"Attach a lot of summaries to a Tensor (for TensorBoard visualization).\"\"\"\n",
    "  with tf.name_scope(scope_name):\n",
    "    mean = tf.reduce_mean(var)\n",
    "    tf.summary.scalar('mean', mean)\n",
    "    with tf.name_scope('stddev'):\n",
    "      stddev = tf.sqrt(tf.reduce_mean(tf.square(var - mean)))\n",
    "    tf.summary.scalar('stddev', stddev)\n",
    "    tf.summary.scalar('max', tf.reduce_max(var))\n",
    "    tf.summary.scalar('min', tf.reduce_min(var))\n",
    "    tf.summary.histogram('histogram', var)\n",
    "\n",
    "def LeNet(x,keep_prob, fcp=(120,120,84)):\n",
    "    # Arguments used for tf.truncated_normal, randomly defines variables for the weights and biases for each layer\n",
    "    mu = 0\n",
    "    sigma = 0.1\n",
    "\n",
    "    # SOLUTION: Layer 1: Convolutional. Input = 32x32x3. Output = 28x28x6.\n",
    "\n",
    "    variable_summaries(x,\"x\")\n",
    "    with tf.name_scope(\"CONV1\"):\n",
    "        conv1_W = tf.Variable(tf.truncated_normal(shape=(5, 5, 1, 6), mean=mu, stddev=sigma))\n",
    "        conv1_b = tf.Variable(tf.zeros(6))\n",
    "        conv1 = tf.nn.conv2d(x, conv1_W, strides=[1, 1, 1, 1], padding='VALID') + conv1_b\n",
    "\n",
    "    variable_summaries(conv1,\"conv1\")\n",
    "\n",
    "    # SOLUTION: Activation.\n",
    "    with tf.name_scope(\"RELU1\"):\n",
    "        conv1 = tf.nn.relu(conv1)\n",
    "    variable_summaries(conv1,\"conv1_relu1\")\n",
    "\n",
    "\n",
    "    # SOLUTION: Pooling. Input = 28x28x6. Output = 14x14x6.\n",
    "    with tf.name_scope(\"POOL1\"):\n",
    "        conv1 = tf.nn.max_pool(conv1, ksize=[1, 2, 2, 1], strides=[1, 2, 2, 1], padding='VALID')\n",
    "    variable_summaries(conv1,\"pool1\")\n",
    "\n",
    "    # SOLUTION: Layer 2: Convolutional. Output = 10x10x16.\n",
    "    with tf.name_scope(\"CONV2\"):\n",
    "        conv2_W = tf.Variable(tf.truncated_normal(shape=(5, 5, 6, 16), mean=mu, stddev=sigma))\n",
    "        conv2_b = tf.Variable(tf.zeros(16))\n",
    "        conv2 = tf.nn.conv2d(conv1, conv2_W, strides=[1, 1, 1, 1], padding='VALID') + conv2_b\n",
    "\n",
    "    # SOLUTION: Activation.\n",
    "    with tf.name_scope(\"RELU2\"):\n",
    "        conv2 = tf.nn.relu(conv2)\n",
    "\n",
    "    with tf.name_scope(\"POOL2\"):\n",
    "        # SOLUTION: Pooling. Input = 10x10x16. Output = 5x5x16.\n",
    "        conv2 = tf.nn.max_pool(conv2, ksize=[1, 2, 2, 1], strides=[1, 2, 2, 1], padding='VALID')\n",
    "\n",
    "    with tf.name_scope(\"Flatten\"):\n",
    "        # SOLUTION: Flatten. Input = 5x5x16. Output = 400.\n",
    "        fc0 = flatten(conv2)\n",
    "\n",
    "    with tf.name_scope(\"FC1\"):\n",
    "        # SOLUTION: Layer 3: Fully Connected. Input = 400. Output = 120.\n",
    "        fc1_W = tf.Variable(tf.truncated_normal(shape=(400, fcp[0]), mean=mu, stddev=sigma))\n",
    "        fc1_b = tf.Variable(tf.zeros(fcp[0]))\n",
    "        fc1 = tf.matmul(fc0, fc1_W) + fc1_b\n",
    "\n",
    "    with tf.name_scope(\"RELU3\"):\n",
    "        # SOLUTION: Activation.\n",
    "        fc1 = tf.nn.relu(fc1)\n",
    "\n",
    "    with tf.name_scope(\"DROP_OUT\"):\n",
    "        fc1 = tf.nn.dropout(fc1, keep_prob=keep_prob)\n",
    "\n",
    "    with tf.name_scope(\"FC2\"):\n",
    "        # SOLUTION: Layer 4: Fully Connected. Input = 120. Output = 84.\n",
    "        fc2_W = tf.Variable(tf.truncated_normal(shape=(fcp[0], fcp[1]), mean=mu, stddev=sigma))\n",
    "        fc2_b = tf.Variable(tf.zeros(fcp[1]))\n",
    "        fc2 = tf.matmul(fc1, fc2_W) + fc2_b\n",
    "\n",
    "    with tf.name_scope(\"RELU4\"):\n",
    "        # SOLUTION: Activation.\n",
    "        fc2 = tf.nn.relu(fc2)\n",
    "        \n",
    "        \n",
    "    with tf.name_scope(\"FC2\"):\n",
    "        # SOLUTION: Layer 4: Fully Connected. Input = 120. Output = 84.\n",
    "        fc3_W = tf.Variable(tf.truncated_normal(shape=(fcp[1], fcp[2]), mean=mu, stddev=sigma))\n",
    "        fc3_b = tf.Variable(tf.zeros(fcp[2]))\n",
    "        fc3 = tf.matmul(fc2, fc3_W) + fc3_b\n",
    "\n",
    "    with tf.name_scope(\"RELU5\"):\n",
    "        # SOLUTION: Activation.\n",
    "        fc3 = tf.nn.relu(fc3)\n",
    "        \n",
    "\n",
    "    with tf.name_scope(\"FC4\"):\n",
    "        # SOLUTION: Layer 5: Fully Connected. Input = 84. Output = 10.\n",
    "        fc4_W = tf.Variable(tf.truncated_normal(shape=(fcp[2], 43), mean=mu, stddev=sigma))\n",
    "        fc4_b = tf.Variable(tf.zeros(43))\n",
    "        logits = tf.matmul(fc3, fc4_W) + fc4_b\n",
    "\n",
    "    return logits\n",
    "\n",
    "\n",
    "def LeNet_o(x,keep_prob, fcp=(120,120,84)):\n",
    "    # Arguments used for tf.truncated_normal, randomly defines variables for the weights and biases for each layer\n",
    "    mu = 0\n",
    "    sigma = 0.1\n",
    "\n",
    "    # SOLUTION: Layer 1: Convolutional. Input = 32x32x3. Output = 28x28x6.\n",
    "\n",
    "    variable_summaries(x,\"x\")\n",
    "    with tf.name_scope(\"CONV1\"):\n",
    "        conv1_W = tf.Variable(tf.truncated_normal(shape=(5, 5, 1, 6), mean=mu, stddev=sigma))\n",
    "        conv1_b = tf.Variable(tf.zeros(6))\n",
    "        conv1 = tf.nn.conv2d(x, conv1_W, strides=[1, 1, 1, 1], padding='VALID') + conv1_b\n",
    "\n",
    "    variable_summaries(conv1,\"conv1\")\n",
    "\n",
    "    # SOLUTION: Activation.\n",
    "    with tf.name_scope(\"RELU1\"):\n",
    "        conv1 = tf.nn.relu(conv1)\n",
    "    variable_summaries(conv1,\"conv1_relu1\")\n",
    "\n",
    "\n",
    "    # SOLUTION: Pooling. Input = 28x28x6. Output = 14x14x6.\n",
    "    with tf.name_scope(\"POOL1\"):\n",
    "        conv1 = tf.nn.max_pool(conv1, ksize=[1, 2, 2, 1], strides=[1, 2, 2, 1], padding='VALID')\n",
    "    variable_summaries(conv1,\"pool1\")\n",
    "\n",
    "    # SOLUTION: Layer 2: Convolutional. Output = 10x10x16.\n",
    "    with tf.name_scope(\"CONV2\"):\n",
    "        conv2_W = tf.Variable(tf.truncated_normal(shape=(5, 5, 6, 16), mean=mu, stddev=sigma))\n",
    "        conv2_b = tf.Variable(tf.zeros(16))\n",
    "        conv2 = tf.nn.conv2d(conv1, conv2_W, strides=[1, 1, 1, 1], padding='VALID') + conv2_b\n",
    "\n",
    "    # SOLUTION: Activation.\n",
    "    with tf.name_scope(\"RELU2\"):\n",
    "        conv2 = tf.nn.relu(conv2)\n",
    "\n",
    "    with tf.name_scope(\"POOL2\"):\n",
    "        # SOLUTION: Pooling. Input = 10x10x16. Output = 5x5x16.\n",
    "        conv2 = tf.nn.max_pool(conv2, ksize=[1, 2, 2, 1], strides=[1, 2, 2, 1], padding='VALID')\n",
    "\n",
    "    with tf.name_scope(\"Flatten\"):\n",
    "        # SOLUTION: Flatten. Input = 5x5x16. Output = 400.\n",
    "        fc0 = flatten(conv2)\n",
    "\n",
    "    with tf.name_scope(\"FC1\"):\n",
    "        # SOLUTION: Layer 3: Fully Connected. Input = 400. Output = 120.\n",
    "        fc1_W = tf.Variable(tf.truncated_normal(shape=(400, fcp[0]), mean=mu, stddev=sigma))\n",
    "        fc1_b = tf.Variable(tf.zeros(fcp[0]))\n",
    "        fc1 = tf.matmul(fc0, fc1_W) + fc1_b\n",
    "\n",
    "    with tf.name_scope(\"RELU3\"):\n",
    "        # SOLUTION: Activation.\n",
    "        fc1 = tf.nn.relu(fc1)\n",
    "\n",
    "    with tf.name_scope(\"DROP_OUT\"):\n",
    "        fc1 = tf.nn.dropout(fc1, keep_prob=keep_prob)\n",
    "\n",
    "    with tf.name_scope(\"FC2\"):\n",
    "        # SOLUTION: Layer 4: Fully Connected. Input = 120. Output = 84.\n",
    "        fc2_W = tf.Variable(tf.truncated_normal(shape=(fcp[0], fcp[1]), mean=mu, stddev=sigma))\n",
    "        fc2_b = tf.Variable(tf.zeros(fcp[1]))\n",
    "        fc2 = tf.matmul(fc1, fc2_W) + fc2_b\n",
    "\n",
    "    with tf.name_scope(\"RELU4\"):\n",
    "        # SOLUTION: Activation.\n",
    "        fc2 = tf.nn.relu(fc2)\n",
    "        \n",
    "    with tf.name_scope(\"FC2\"):\n",
    "        # SOLUTION: Layer 4: Fully Connected. Input = 120. Output = 84.\n",
    "        fc3_W = tf.Variable(tf.truncated_normal(shape=(fcp[1], 43), mean=mu, stddev=sigma))\n",
    "        fc3_b = tf.Variable(tf.zeros(43))\n",
    "        logits = tf.matmul(fc2, fc3_W) + fc3_b\n",
    "\n",
    "\n",
    "    return logits\n",
    "\n",
    "x = tf.placeholder(tf.float32, (None, 32, 32, 1))\n",
    "y = tf.placeholder(tf.int32, (None))\n",
    "one_hot_y = tf.one_hot(y, 43)\n",
    "keep_prob = tf.placeholder(tf.float32, ())\n",
    "\n",
    "\n",
    "\n",
    "EPOCHS = 160\n",
    "BATCH_SIZE = 1024\n",
    "rate = 0.001\n",
    "training_keep_prob = 0.5\n",
    "\n",
    "netpara = (300,180,100)\n",
    "#netpara = (120, 84)\n",
    "\n",
    "logits = LeNet(x,keep_prob, netpara)\n",
    "#logits = LeNet_o(x,keep_prob, netpara)\n",
    "\n",
    "tf.summary.image(\"x\", x,max_outputs=3)\n",
    "\n",
    "\n",
    "cross_entropy = tf.nn.softmax_cross_entropy_with_logits(logits, one_hot_y)\n",
    "loss_operation = tf.reduce_mean(cross_entropy)\n",
    "optimizer = tf.train.AdamOptimizer(learning_rate = rate)\n",
    "training_operation = optimizer.minimize(loss_operation)\n",
    "\n",
    "correct_prediction = tf.equal(tf.argmax(logits, 1), tf.argmax(one_hot_y, 1))\n",
    "accuracy_operation = tf.reduce_mean(tf.cast(correct_prediction, tf.float32))\n",
    "saver = tf.train.Saver()\n",
    "\n",
    "tf.summary.scalar('accuracy', accuracy_operation)\n",
    "#tf.summary.scalar(\"validation_accuracy\", validation_accuracy)\n",
    "\n",
    "\n",
    "def evaluate(X_data, y_data):\n",
    "    num_examples = len(X_data)\n",
    "    total_accuracy = 0\n",
    "    sess = tf.get_default_session()\n",
    "    for offset in range(0, num_examples, BATCH_SIZE):\n",
    "        batch_x, batch_y = X_data[offset:offset+BATCH_SIZE], y_data[offset:offset+BATCH_SIZE]\n",
    "        accuracy = sess.run(accuracy_operation, feed_dict={x: batch_x, y: batch_y, keep_prob:1})\n",
    "        total_accuracy += (accuracy * len(batch_x))\n",
    "    return total_accuracy / num_examples\n",
    "\n",
    "merged = tf.summary.merge_all()\n",
    "\n",
    "with tf.Session() as sess:\n",
    "\n",
    "    # sess.graph_def is the graph definition; that enables the Graph Visualizer.\n",
    "    file_writer = tf.summary.FileWriter('./logs', sess.graph)\n",
    "\n",
    "    sess.run(tf.global_variables_initializer())\n",
    "    num_examples = len(X_train)\n",
    "\n",
    "    print(\"Training...\")\n",
    "    print()\n",
    "    for i in range(EPOCHS):\n",
    "        X_train, y_train = shuffle(X_train, y_train)\n",
    "        for offset in range(0, num_examples, BATCH_SIZE):\n",
    "            end = offset + BATCH_SIZE\n",
    "            batch_x, batch_y = X_train[offset:end], y_train[offset:end]\n",
    "            sess.run(training_operation, feed_dict={x: batch_x, y: batch_y, keep_prob:training_keep_prob})\n",
    "\n",
    "            if 0: #offset % (BATCH_SIZE*100) == 0.0:\n",
    "                summary, Traing_loss = sess.run([merged,loss_operation], feed_dict={x: batch_x, y: batch_y, keep_prob:1})\n",
    "                print(\"batch = {:.3f}  Traing Loss = {:.3f}\".format(offset, Traing_loss))\n",
    "\n",
    "                file_writer.add_summary(summary, i*num_examples+offset)\n",
    "\n",
    "\n",
    "        Training_accuracy = evaluate(X_train, y_train)\n",
    "        validation_accuracy = evaluate(X_validation, y_validation)\n",
    "        print(\"EPOCH {} ... Training Accuracy= {:.3f}  Validation Accuracy = {:.3f}\".format(i+1, Training_accuracy,validation_accuracy))\n",
    "\n",
    "        #file_writer.add_summary(summary,i)\n",
    "\n",
    "    saver.save(sess, './lenet')\n",
    "    print(\"Model saved\")\n"
   ]
  },
  {
   "cell_type": "markdown",
   "metadata": {
    "deletable": true,
    "editable": true
   },
   "source": [
    "New Test file in keras"
   ]
  },
  {
   "cell_type": "code",
   "execution_count": 5,
   "metadata": {
    "collapsed": false,
    "deletable": true,
    "editable": true
   },
   "outputs": [
    {
     "name": "stdout",
     "output_type": "stream",
     "text": [
      "(39209, 32, 32, 3)\n",
      "(39209,)\n",
      "Number of training set = 23525\n",
      "Number of validation set = 7842\n",
      "Number of test set = 7842\n"
     ]
    }
   ],
   "source": [
    "import pickle\n",
    "import pandas as pd\n",
    "# TODO: Fill this in based on where you saved the training and testing data\n",
    "\n",
    "training_file = \"train.p\"\n",
    "testing_file = \"test.p\"\n",
    "\n",
    "\n",
    "with open(training_file, mode='rb') as f:\n",
    "    train = pickle.load(f)\n",
    "with open(testing_file, mode='rb') as f:\n",
    "    test = pickle.load(f)\n",
    "    \n",
    "\n",
    "X_train_load, y_train_load = train['features'], train['labels']\n",
    "X_test_load, y_test_load = test['features'], test['labels']\n",
    "\n",
    "\n",
    "from sklearn.utils import shuffle\n",
    "from sklearn.model_selection import train_test_split\n",
    "\n",
    "\n",
    "print(X_train_load.shape)\n",
    "print(y_train_load.shape)\n",
    "\n",
    "#X_train_load[:,:,:,:] = (X_train_load[:,:,:,:] - 128) \n",
    "\n",
    "\n",
    "import cv2\n",
    "import numpy as np\n",
    "\n",
    "def RGB2YUV(dataset):\n",
    "    s1,s2,s3,s4 = dataset.shape\n",
    "    for i in range(dataset.shape[0]):\n",
    "        dataset[i,:,:,:]=cv2.cvtColor(dataset[i,:,:,:],cv2.COLOR_RGB2YUV)\n",
    "    dataset = np.reshape(dataset[:,:,:,0],(s1,s2,s3,1))\n",
    "    return dataset\n",
    "\n",
    "def RGB2GRY(dataset):\n",
    "    s1,s2,s3,s4 = dataset.shape\n",
    "    for i in range(dataset.shape[0]):\n",
    "        dataset[i,:,:,0]=cv2.cvtColor(dataset[i,:,:,:],cv2.COLOR_RGB2GRAY)\n",
    "    dataset = np.reshape(dataset[:,:,:,0],(s1,s2,s3,1))\n",
    "    return dataset\n",
    "\n",
    "X_train_load = RGB2YUV(X_train_load)\n",
    "\n",
    "\n",
    "X_train, X_rest, y_train, y_rest = train_test_split(X_train_load, y_train_load, test_size=0.4)\n",
    "X_validation, X_test, y_validation, y_test = train_test_split(X_rest, y_rest, test_size=0.5)\n",
    "X_train, y_train = shuffle(X_train, y_train)\n",
    "\n",
    "print(\"Number of training set =\", len(X_train))\n",
    "print(\"Number of validation set =\", len(X_validation))\n",
    "print(\"Number of test set =\", len(X_test))"
   ]
  },
  {
   "cell_type": "code",
   "execution_count": 11,
   "metadata": {
    "collapsed": false,
    "deletable": true,
    "editable": true
   },
   "outputs": [
    {
     "name": "stdout",
     "output_type": "stream",
     "text": [
      "____________________________________________________________________________________________________\n",
      "Layer (type)                     Output Shape          Param #     Connected to                     \n",
      "====================================================================================================\n",
      "convolution2d_9 (Convolution2D)  (None, 28, 28, 6)     156         convolution2d_input_7[0][0]      \n",
      "____________________________________________________________________________________________________\n",
      "activation_22 (Activation)       (None, 28, 28, 6)     0           convolution2d_9[0][0]            \n",
      "____________________________________________________________________________________________________\n",
      "maxpooling2d_9 (MaxPooling2D)    (None, 14, 14, 6)     0           activation_22[0][0]              \n",
      "____________________________________________________________________________________________________\n",
      "convolution2d_10 (Convolution2D) (None, 10, 10, 16)    2416        maxpooling2d_9[0][0]             \n",
      "____________________________________________________________________________________________________\n",
      "activation_23 (Activation)       (None, 10, 10, 16)    0           convolution2d_10[0][0]           \n",
      "____________________________________________________________________________________________________\n",
      "maxpooling2d_10 (MaxPooling2D)   (None, 5, 5, 16)      0           activation_23[0][0]              \n",
      "____________________________________________________________________________________________________\n",
      "flatten_7 (Flatten)              (None, 400)           0           maxpooling2d_10[0][0]            \n",
      "____________________________________________________________________________________________________\n",
      "dense_14 (Dense)                 (None, 120)           48120       flatten_7[0][0]                  \n",
      "____________________________________________________________________________________________________\n",
      "activation_24 (Activation)       (None, 120)           0           dense_14[0][0]                   \n",
      "____________________________________________________________________________________________________\n",
      "dense_15 (Dense)                 (None, 84)            10164       activation_24[0][0]              \n",
      "____________________________________________________________________________________________________\n",
      "activation_25 (Activation)       (None, 84)            0           dense_15[0][0]                   \n",
      "____________________________________________________________________________________________________\n",
      "dense_16 (Dense)                 (None, 43)            3655        activation_25[0][0]              \n",
      "____________________________________________________________________________________________________\n",
      "activation_26 (Activation)       (None, 43)            0           dense_16[0][0]                   \n",
      "====================================================================================================\n",
      "Total params: 64,511\n",
      "Trainable params: 64,511\n",
      "Non-trainable params: 0\n",
      "____________________________________________________________________________________________________\n"
     ]
    },
    {
     "ename": "ValueError",
     "evalue": "Error when checking model target: expected activation_26 to have shape (None, 43) but got array with shape (23525, 1)",
     "output_type": "error",
     "traceback": [
      "\u001b[0;31m---------------------------------------------------------------------------\u001b[0m",
      "\u001b[0;31mValueError\u001b[0m                                Traceback (most recent call last)",
      "\u001b[0;32m<ipython-input-11-f126af0cb9cc>\u001b[0m in \u001b[0;36m<module>\u001b[0;34m()\u001b[0m\n\u001b[1;32m     27\u001b[0m \u001b[0mmodel\u001b[0m\u001b[0;34m.\u001b[0m\u001b[0mcompile\u001b[0m\u001b[0;34m(\u001b[0m\u001b[0mloss\u001b[0m\u001b[0;34m=\u001b[0m\u001b[0;34m'categorical_crossentropy'\u001b[0m\u001b[0;34m,\u001b[0m \u001b[0moptimizer\u001b[0m\u001b[0;34m=\u001b[0m\u001b[0;34m'sgd'\u001b[0m\u001b[0;34m,\u001b[0m \u001b[0mmetrics\u001b[0m\u001b[0;34m=\u001b[0m\u001b[0;34m[\u001b[0m\u001b[0;34m'accuracy'\u001b[0m\u001b[0;34m]\u001b[0m\u001b[0;34m)\u001b[0m\u001b[0;34m\u001b[0m\u001b[0m\n\u001b[1;32m     28\u001b[0m \u001b[0mmodel\u001b[0m\u001b[0;34m.\u001b[0m\u001b[0msummary\u001b[0m\u001b[0;34m(\u001b[0m\u001b[0;34m)\u001b[0m\u001b[0;34m\u001b[0m\u001b[0m\n\u001b[0;32m---> 29\u001b[0;31m \u001b[0mmodel\u001b[0m\u001b[0;34m.\u001b[0m\u001b[0mfit\u001b[0m\u001b[0;34m(\u001b[0m\u001b[0mX_train\u001b[0m\u001b[0;34m,\u001b[0m \u001b[0my_train\u001b[0m\u001b[0;34m,\u001b[0m \u001b[0mnb_epoch\u001b[0m\u001b[0;34m=\u001b[0m\u001b[0;36m5\u001b[0m\u001b[0;34m,\u001b[0m \u001b[0mbatch_size\u001b[0m\u001b[0;34m=\u001b[0m\u001b[0;36m128\u001b[0m\u001b[0;34m)\u001b[0m\u001b[0;34m\u001b[0m\u001b[0m\n\u001b[0m\u001b[1;32m     30\u001b[0m \u001b[0;31m#model.train_on_batch(X_batch, Y_batch)\u001b[0m\u001b[0;34m\u001b[0m\u001b[0;34m\u001b[0m\u001b[0m\n\u001b[1;32m     31\u001b[0m \u001b[0;34m\u001b[0m\u001b[0m\n",
      "\u001b[0;32m/home/hsu/anaconda3/envs/carnd-term1/lib/python3.5/site-packages/keras/models.py\u001b[0m in \u001b[0;36mfit\u001b[0;34m(self, x, y, batch_size, nb_epoch, verbose, callbacks, validation_split, validation_data, shuffle, class_weight, sample_weight, initial_epoch, **kwargs)\u001b[0m\n\u001b[1;32m    670\u001b[0m                               \u001b[0mclass_weight\u001b[0m\u001b[0;34m=\u001b[0m\u001b[0mclass_weight\u001b[0m\u001b[0;34m,\u001b[0m\u001b[0;34m\u001b[0m\u001b[0m\n\u001b[1;32m    671\u001b[0m                               \u001b[0msample_weight\u001b[0m\u001b[0;34m=\u001b[0m\u001b[0msample_weight\u001b[0m\u001b[0;34m,\u001b[0m\u001b[0;34m\u001b[0m\u001b[0m\n\u001b[0;32m--> 672\u001b[0;31m                               initial_epoch=initial_epoch)\n\u001b[0m\u001b[1;32m    673\u001b[0m \u001b[0;34m\u001b[0m\u001b[0m\n\u001b[1;32m    674\u001b[0m     def evaluate(self, x, y, batch_size=32, verbose=1,\n",
      "\u001b[0;32m/home/hsu/anaconda3/envs/carnd-term1/lib/python3.5/site-packages/keras/engine/training.py\u001b[0m in \u001b[0;36mfit\u001b[0;34m(self, x, y, batch_size, nb_epoch, verbose, callbacks, validation_split, validation_data, shuffle, class_weight, sample_weight, initial_epoch)\u001b[0m\n\u001b[1;32m   1114\u001b[0m             \u001b[0mclass_weight\u001b[0m\u001b[0;34m=\u001b[0m\u001b[0mclass_weight\u001b[0m\u001b[0;34m,\u001b[0m\u001b[0;34m\u001b[0m\u001b[0m\n\u001b[1;32m   1115\u001b[0m             \u001b[0mcheck_batch_axis\u001b[0m\u001b[0;34m=\u001b[0m\u001b[0;32mFalse\u001b[0m\u001b[0;34m,\u001b[0m\u001b[0;34m\u001b[0m\u001b[0m\n\u001b[0;32m-> 1116\u001b[0;31m             batch_size=batch_size)\n\u001b[0m\u001b[1;32m   1117\u001b[0m         \u001b[0;31m# prepare validation data\u001b[0m\u001b[0;34m\u001b[0m\u001b[0;34m\u001b[0m\u001b[0m\n\u001b[1;32m   1118\u001b[0m         \u001b[0;32mif\u001b[0m \u001b[0mvalidation_data\u001b[0m\u001b[0;34m:\u001b[0m\u001b[0;34m\u001b[0m\u001b[0m\n",
      "\u001b[0;32m/home/hsu/anaconda3/envs/carnd-term1/lib/python3.5/site-packages/keras/engine/training.py\u001b[0m in \u001b[0;36m_standardize_user_data\u001b[0;34m(self, x, y, sample_weight, class_weight, check_batch_axis, batch_size)\u001b[0m\n\u001b[1;32m   1031\u001b[0m                                    \u001b[0moutput_shapes\u001b[0m\u001b[0;34m,\u001b[0m\u001b[0;34m\u001b[0m\u001b[0m\n\u001b[1;32m   1032\u001b[0m                                    \u001b[0mcheck_batch_axis\u001b[0m\u001b[0;34m=\u001b[0m\u001b[0;32mFalse\u001b[0m\u001b[0;34m,\u001b[0m\u001b[0;34m\u001b[0m\u001b[0m\n\u001b[0;32m-> 1033\u001b[0;31m                                    exception_prefix='model target')\n\u001b[0m\u001b[1;32m   1034\u001b[0m         sample_weights = standardize_sample_weights(sample_weight,\n\u001b[1;32m   1035\u001b[0m                                                     self.output_names)\n",
      "\u001b[0;32m/home/hsu/anaconda3/envs/carnd-term1/lib/python3.5/site-packages/keras/engine/training.py\u001b[0m in \u001b[0;36mstandardize_input_data\u001b[0;34m(data, names, shapes, check_batch_axis, exception_prefix)\u001b[0m\n\u001b[1;32m    122\u001b[0m                             \u001b[0;34m' to have shape '\u001b[0m \u001b[0;34m+\u001b[0m \u001b[0mstr\u001b[0m\u001b[0;34m(\u001b[0m\u001b[0mshapes\u001b[0m\u001b[0;34m[\u001b[0m\u001b[0mi\u001b[0m\u001b[0;34m]\u001b[0m\u001b[0;34m)\u001b[0m \u001b[0;34m+\u001b[0m\u001b[0;34m\u001b[0m\u001b[0m\n\u001b[1;32m    123\u001b[0m                             \u001b[0;34m' but got array with shape '\u001b[0m \u001b[0;34m+\u001b[0m\u001b[0;34m\u001b[0m\u001b[0m\n\u001b[0;32m--> 124\u001b[0;31m                             str(array.shape))\n\u001b[0m\u001b[1;32m    125\u001b[0m     \u001b[0;32mreturn\u001b[0m \u001b[0marrays\u001b[0m\u001b[0;34m\u001b[0m\u001b[0m\n\u001b[1;32m    126\u001b[0m \u001b[0;34m\u001b[0m\u001b[0m\n",
      "\u001b[0;31mValueError\u001b[0m: Error when checking model target: expected activation_26 to have shape (None, 43) but got array with shape (23525, 1)"
     ]
    }
   ],
   "source": [
    "from keras.models import Sequential\n",
    "from keras.layers import Dense, Activation,Conv2D,Flatten,Convolution2D,MaxPooling2D\n",
    "\n",
    "\n",
    "model  = Sequential()\n",
    "\n",
    "model.add(Convolution2D(6, 5, 5, border_mode='valid', input_shape=(32, 32, 1)))\n",
    "model.add(Activation('relu'))\n",
    "model.add(MaxPooling2D(pool_size=(2, 2), strides=(2,2), border_mode='valid'))\n",
    "\n",
    "model.add(Convolution2D(16, 5, 5, border_mode='valid'))\n",
    "model.add(Activation('relu'))\n",
    "model.add(MaxPooling2D(pool_size=(2, 2), strides=(2,2), border_mode='valid'))\n",
    "\n",
    "model.add(Flatten())\n",
    "\n",
    "model.add(Dense(output_dim=120))\n",
    "model.add(Activation(\"relu\"))\n",
    "\n",
    "model.add(Dense(output_dim=84))\n",
    "model.add(Activation(\"relu\"))\n",
    "\n",
    "\n",
    "model.add(Dense(output_dim=43))\n",
    "model.add(Activation(\"softmax\"))\n",
    "\n",
    "\n",
    "model.compile(loss='categorical_crossentropy', optimizer='sgd', metrics=['accuracy'])\n",
    "model.summary()\n",
    "model.fit(X_train, y_train, nb_epoch=5, batch_size=128)\n",
    "#model.train_on_batch(X_batch, Y_batch)\n",
    "\n",
    "\n",
    "\n",
    "\n",
    "loss_and_metrics = model.evaluate(X_test, Y_test, batch_size=32)\n",
    "classes = model.predict_classes(X_test, batch_size=32)\n",
    "proba = model.predict_proba(X_test, batch_size=32)\n",
    "\n"
   ]
  },
  {
   "cell_type": "code",
   "execution_count": 3,
   "metadata": {
    "collapsed": false,
    "deletable": true,
    "editable": true
   },
   "outputs": [
    {
     "name": "stdout",
     "output_type": "stream",
     "text": [
      "Training...\n",
      "\n",
      "EPOCH 1 ... Training Accuracy= 0.108  Validation Accuracy = 0.108\n",
      "EPOCH 2 ... Training Accuracy= 0.173  Validation Accuracy = 0.170\n",
      "EPOCH 3 ... Training Accuracy= 0.265  Validation Accuracy = 0.257\n",
      "EPOCH 4 ... Training Accuracy= 0.372  Validation Accuracy = 0.358\n",
      "EPOCH 5 ... Training Accuracy= 0.497  Validation Accuracy = 0.480\n",
      "EPOCH 6 ... Training Accuracy= 0.620  Validation Accuracy = 0.609\n",
      "EPOCH 7 ... Training Accuracy= 0.724  Validation Accuracy = 0.709\n",
      "EPOCH 8 ... Training Accuracy= 0.782  Validation Accuracy = 0.758\n",
      "EPOCH 9 ... Training Accuracy= 0.823  Validation Accuracy = 0.801\n",
      "EPOCH 10 ... Training Accuracy= 0.855  Validation Accuracy = 0.830\n",
      "EPOCH 11 ... Training Accuracy= 0.879  Validation Accuracy = 0.855\n",
      "EPOCH 12 ... Training Accuracy= 0.897  Validation Accuracy = 0.873\n",
      "EPOCH 13 ... Training Accuracy= 0.911  Validation Accuracy = 0.884\n",
      "EPOCH 14 ... Training Accuracy= 0.923  Validation Accuracy = 0.896\n",
      "EPOCH 15 ... Training Accuracy= 0.928  Validation Accuracy = 0.900\n",
      "EPOCH 16 ... Training Accuracy= 0.941  Validation Accuracy = 0.914\n",
      "EPOCH 17 ... Training Accuracy= 0.948  Validation Accuracy = 0.919\n",
      "EPOCH 18 ... Training Accuracy= 0.956  Validation Accuracy = 0.928\n",
      "EPOCH 19 ... Training Accuracy= 0.959  Validation Accuracy = 0.929\n",
      "EPOCH 20 ... Training Accuracy= 0.961  Validation Accuracy = 0.933\n",
      "EPOCH 21 ... Training Accuracy= 0.963  Validation Accuracy = 0.936\n",
      "EPOCH 22 ... Training Accuracy= 0.965  Validation Accuracy = 0.936\n",
      "EPOCH 23 ... Training Accuracy= 0.972  Validation Accuracy = 0.944\n",
      "EPOCH 24 ... Training Accuracy= 0.975  Validation Accuracy = 0.947\n",
      "EPOCH 25 ... Training Accuracy= 0.977  Validation Accuracy = 0.950\n",
      "EPOCH 26 ... Training Accuracy= 0.981  Validation Accuracy = 0.953\n",
      "EPOCH 27 ... Training Accuracy= 0.980  Validation Accuracy = 0.953\n",
      "EPOCH 28 ... Training Accuracy= 0.981  Validation Accuracy = 0.954\n",
      "EPOCH 29 ... Training Accuracy= 0.983  Validation Accuracy = 0.957\n",
      "EPOCH 30 ... Training Accuracy= 0.985  Validation Accuracy = 0.958\n",
      "EPOCH 31 ... Training Accuracy= 0.986  Validation Accuracy = 0.960\n",
      "EPOCH 32 ... Training Accuracy= 0.988  Validation Accuracy = 0.961\n",
      "EPOCH 33 ... Training Accuracy= 0.987  Validation Accuracy = 0.961\n",
      "EPOCH 34 ... Training Accuracy= 0.989  Validation Accuracy = 0.965\n",
      "EPOCH 35 ... Training Accuracy= 0.988  Validation Accuracy = 0.964\n",
      "EPOCH 36 ... Training Accuracy= 0.991  Validation Accuracy = 0.964\n",
      "EPOCH 37 ... Training Accuracy= 0.991  Validation Accuracy = 0.966\n",
      "EPOCH 38 ... Training Accuracy= 0.992  Validation Accuracy = 0.968\n",
      "EPOCH 39 ... Training Accuracy= 0.993  Validation Accuracy = 0.970\n",
      "EPOCH 40 ... Training Accuracy= 0.993  Validation Accuracy = 0.969\n",
      "EPOCH 41 ... Training Accuracy= 0.992  Validation Accuracy = 0.966\n",
      "EPOCH 42 ... Training Accuracy= 0.994  Validation Accuracy = 0.970\n",
      "EPOCH 43 ... Training Accuracy= 0.994  Validation Accuracy = 0.970\n",
      "EPOCH 44 ... Training Accuracy= 0.995  Validation Accuracy = 0.972\n",
      "EPOCH 45 ... Training Accuracy= 0.994  Validation Accuracy = 0.972\n",
      "EPOCH 46 ... Training Accuracy= 0.995  Validation Accuracy = 0.972\n",
      "EPOCH 47 ... Training Accuracy= 0.995  Validation Accuracy = 0.970\n",
      "EPOCH 48 ... Training Accuracy= 0.996  Validation Accuracy = 0.974\n",
      "EPOCH 49 ... Training Accuracy= 0.996  Validation Accuracy = 0.973\n",
      "EPOCH 50 ... Training Accuracy= 0.995  Validation Accuracy = 0.970\n",
      "EPOCH 51 ... Training Accuracy= 0.997  Validation Accuracy = 0.972\n",
      "EPOCH 52 ... Training Accuracy= 0.997  Validation Accuracy = 0.974\n",
      "EPOCH 53 ... Training Accuracy= 0.997  Validation Accuracy = 0.975\n",
      "EPOCH 54 ... Training Accuracy= 0.997  Validation Accuracy = 0.975\n",
      "EPOCH 55 ... Training Accuracy= 0.997  Validation Accuracy = 0.974\n",
      "EPOCH 56 ... Training Accuracy= 0.998  Validation Accuracy = 0.976\n",
      "EPOCH 57 ... Training Accuracy= 0.997  Validation Accuracy = 0.975\n",
      "EPOCH 58 ... Training Accuracy= 0.998  Validation Accuracy = 0.977\n",
      "EPOCH 59 ... Training Accuracy= 0.998  Validation Accuracy = 0.976\n",
      "EPOCH 60 ... Training Accuracy= 0.998  Validation Accuracy = 0.975\n",
      "EPOCH 61 ... Training Accuracy= 0.998  Validation Accuracy = 0.977\n",
      "EPOCH 62 ... Training Accuracy= 0.998  Validation Accuracy = 0.977\n",
      "EPOCH 63 ... Training Accuracy= 0.999  Validation Accuracy = 0.979\n",
      "EPOCH 64 ... Training Accuracy= 0.999  Validation Accuracy = 0.977\n",
      "EPOCH 65 ... Training Accuracy= 0.998  Validation Accuracy = 0.977\n",
      "EPOCH 66 ... Training Accuracy= 0.999  Validation Accuracy = 0.977\n",
      "EPOCH 67 ... Training Accuracy= 0.998  Validation Accuracy = 0.974\n",
      "EPOCH 68 ... Training Accuracy= 0.999  Validation Accuracy = 0.979\n",
      "EPOCH 69 ... Training Accuracy= 0.999  Validation Accuracy = 0.977\n",
      "EPOCH 70 ... Training Accuracy= 0.998  Validation Accuracy = 0.976\n",
      "EPOCH 71 ... Training Accuracy= 0.999  Validation Accuracy = 0.977\n",
      "EPOCH 72 ... Training Accuracy= 0.999  Validation Accuracy = 0.979\n",
      "EPOCH 73 ... Training Accuracy= 0.999  Validation Accuracy = 0.977\n",
      "EPOCH 74 ... Training Accuracy= 0.999  Validation Accuracy = 0.977\n",
      "EPOCH 75 ... Training Accuracy= 0.999  Validation Accuracy = 0.978\n",
      "EPOCH 76 ... Training Accuracy= 0.999  Validation Accuracy = 0.979\n",
      "EPOCH 77 ... Training Accuracy= 0.999  Validation Accuracy = 0.979\n",
      "EPOCH 78 ... Training Accuracy= 0.999  Validation Accuracy = 0.978\n",
      "EPOCH 79 ... Training Accuracy= 0.999  Validation Accuracy = 0.979\n",
      "EPOCH 80 ... Training Accuracy= 0.999  Validation Accuracy = 0.979\n",
      "EPOCH 81 ... Training Accuracy= 0.999  Validation Accuracy = 0.980\n",
      "EPOCH 82 ... Training Accuracy= 0.999  Validation Accuracy = 0.978\n",
      "EPOCH 83 ... Training Accuracy= 1.000  Validation Accuracy = 0.979\n",
      "EPOCH 84 ... Training Accuracy= 0.999  Validation Accuracy = 0.978\n",
      "EPOCH 85 ... Training Accuracy= 0.999  Validation Accuracy = 0.977\n",
      "EPOCH 86 ... Training Accuracy= 0.999  Validation Accuracy = 0.979\n",
      "EPOCH 87 ... Training Accuracy= 1.000  Validation Accuracy = 0.979\n",
      "EPOCH 88 ... Training Accuracy= 0.999  Validation Accuracy = 0.980\n",
      "EPOCH 89 ... Training Accuracy= 0.999  Validation Accuracy = 0.981\n",
      "EPOCH 90 ... Training Accuracy= 1.000  Validation Accuracy = 0.980\n",
      "EPOCH 91 ... Training Accuracy= 0.999  Validation Accuracy = 0.978\n",
      "EPOCH 92 ... Training Accuracy= 1.000  Validation Accuracy = 0.981\n",
      "EPOCH 93 ... Training Accuracy= 1.000  Validation Accuracy = 0.982\n",
      "EPOCH 94 ... Training Accuracy= 0.999  Validation Accuracy = 0.981\n",
      "EPOCH 95 ... Training Accuracy= 0.999  Validation Accuracy = 0.981\n",
      "EPOCH 96 ... Training Accuracy= 0.999  Validation Accuracy = 0.982\n",
      "EPOCH 97 ... Training Accuracy= 1.000  Validation Accuracy = 0.982\n",
      "EPOCH 98 ... Training Accuracy= 1.000  Validation Accuracy = 0.981\n",
      "EPOCH 99 ... Training Accuracy= 1.000  Validation Accuracy = 0.982\n",
      "EPOCH 100 ... Training Accuracy= 1.000  Validation Accuracy = 0.981\n",
      "EPOCH 101 ... Training Accuracy= 1.000  Validation Accuracy = 0.981\n",
      "EPOCH 102 ... Training Accuracy= 1.000  Validation Accuracy = 0.980\n",
      "EPOCH 103 ... Training Accuracy= 1.000  Validation Accuracy = 0.980\n",
      "EPOCH 104 ... Training Accuracy= 1.000  Validation Accuracy = 0.981\n",
      "EPOCH 105 ... Training Accuracy= 1.000  Validation Accuracy = 0.982\n",
      "EPOCH 106 ... Training Accuracy= 1.000  Validation Accuracy = 0.981\n",
      "EPOCH 107 ... Training Accuracy= 1.000  Validation Accuracy = 0.981\n",
      "EPOCH 108 ... Training Accuracy= 1.000  Validation Accuracy = 0.981\n",
      "EPOCH 109 ... Training Accuracy= 1.000  Validation Accuracy = 0.981\n",
      "EPOCH 110 ... Training Accuracy= 1.000  Validation Accuracy = 0.980\n",
      "EPOCH 111 ... Training Accuracy= 1.000  Validation Accuracy = 0.981\n",
      "EPOCH 112 ... Training Accuracy= 0.999  Validation Accuracy = 0.978\n",
      "EPOCH 113 ... Training Accuracy= 1.000  Validation Accuracy = 0.982\n",
      "EPOCH 114 ... Training Accuracy= 1.000  Validation Accuracy = 0.984\n",
      "EPOCH 115 ... Training Accuracy= 1.000  Validation Accuracy = 0.982\n",
      "EPOCH 116 ... Training Accuracy= 1.000  Validation Accuracy = 0.981\n",
      "EPOCH 117 ... Training Accuracy= 1.000  Validation Accuracy = 0.983\n",
      "EPOCH 118 ... Training Accuracy= 1.000  Validation Accuracy = 0.982\n",
      "EPOCH 119 ... Training Accuracy= 1.000  Validation Accuracy = 0.981\n",
      "EPOCH 120 ... Training Accuracy= 1.000  Validation Accuracy = 0.981\n",
      "EPOCH 121 ... Training Accuracy= 1.000  Validation Accuracy = 0.980\n",
      "EPOCH 122 ... Training Accuracy= 1.000  Validation Accuracy = 0.979\n",
      "EPOCH 123 ... Training Accuracy= 1.000  Validation Accuracy = 0.983\n",
      "EPOCH 124 ... Training Accuracy= 1.000  Validation Accuracy = 0.981\n",
      "EPOCH 125 ... Training Accuracy= 1.000  Validation Accuracy = 0.982\n",
      "EPOCH 126 ... Training Accuracy= 1.000  Validation Accuracy = 0.980\n",
      "EPOCH 127 ... Training Accuracy= 1.000  Validation Accuracy = 0.983\n",
      "EPOCH 128 ... Training Accuracy= 1.000  Validation Accuracy = 0.983\n",
      "EPOCH 129 ... Training Accuracy= 1.000  Validation Accuracy = 0.980\n",
      "EPOCH 130 ... Training Accuracy= 1.000  Validation Accuracy = 0.982\n",
      "EPOCH 131 ... Training Accuracy= 1.000  Validation Accuracy = 0.982\n",
      "EPOCH 132 ... Training Accuracy= 1.000  Validation Accuracy = 0.984\n",
      "EPOCH 133 ... Training Accuracy= 1.000  Validation Accuracy = 0.983\n",
      "EPOCH 134 ... Training Accuracy= 1.000  Validation Accuracy = 0.983\n",
      "EPOCH 135 ... Training Accuracy= 1.000  Validation Accuracy = 0.982\n",
      "EPOCH 136 ... Training Accuracy= 1.000  Validation Accuracy = 0.982\n",
      "EPOCH 137 ... Training Accuracy= 1.000  Validation Accuracy = 0.982\n",
      "EPOCH 138 ... Training Accuracy= 1.000  Validation Accuracy = 0.984\n",
      "EPOCH 139 ... Training Accuracy= 1.000  Validation Accuracy = 0.981\n",
      "EPOCH 140 ... Training Accuracy= 1.000  Validation Accuracy = 0.983\n",
      "EPOCH 141 ... Training Accuracy= 1.000  Validation Accuracy = 0.983\n",
      "EPOCH 142 ... Training Accuracy= 1.000  Validation Accuracy = 0.983\n",
      "EPOCH 143 ... Training Accuracy= 1.000  Validation Accuracy = 0.983\n",
      "EPOCH 144 ... Training Accuracy= 1.000  Validation Accuracy = 0.983\n",
      "EPOCH 145 ... Training Accuracy= 1.000  Validation Accuracy = 0.982\n",
      "EPOCH 146 ... Training Accuracy= 1.000  Validation Accuracy = 0.983\n",
      "EPOCH 147 ... Training Accuracy= 1.000  Validation Accuracy = 0.982\n",
      "EPOCH 148 ... Training Accuracy= 1.000  Validation Accuracy = 0.981\n",
      "EPOCH 149 ... Training Accuracy= 1.000  Validation Accuracy = 0.981\n",
      "EPOCH 150 ... Training Accuracy= 1.000  Validation Accuracy = 0.982\n",
      "EPOCH 151 ... Training Accuracy= 1.000  Validation Accuracy = 0.984\n",
      "EPOCH 152 ... Training Accuracy= 1.000  Validation Accuracy = 0.985\n",
      "EPOCH 153 ... Training Accuracy= 1.000  Validation Accuracy = 0.983\n",
      "EPOCH 154 ... Training Accuracy= 1.000  Validation Accuracy = 0.983\n",
      "EPOCH 155 ... Training Accuracy= 1.000  Validation Accuracy = 0.984\n",
      "EPOCH 156 ... Training Accuracy= 1.000  Validation Accuracy = 0.983\n",
      "EPOCH 157 ... Training Accuracy= 1.000  Validation Accuracy = 0.983\n",
      "EPOCH 158 ... Training Accuracy= 1.000  Validation Accuracy = 0.982\n",
      "EPOCH 159 ... Training Accuracy= 1.000  Validation Accuracy = 0.984\n",
      "EPOCH 160 ... Training Accuracy= 1.000  Validation Accuracy = 0.983\n"
     ]
    },
    {
     "ename": "NameError",
     "evalue": "name 'X_test_load' is not defined",
     "output_type": "error",
     "traceback": [
      "\u001b[0;31m---------------------------------------------------------------------------\u001b[0m",
      "\u001b[0;31mNameError\u001b[0m                                 Traceback (most recent call last)",
      "\u001b[0;32m<ipython-input-3-fa1147dd39fb>\u001b[0m in \u001b[0;36m<module>\u001b[0;34m()\u001b[0m\n\u001b[1;32m    162\u001b[0m         \u001b[0;31m#file_writer.add_summary(summary,i)\u001b[0m\u001b[0;34m\u001b[0m\u001b[0;34m\u001b[0m\u001b[0m\n\u001b[1;32m    163\u001b[0m     \u001b[0mTest_accuracy\u001b[0m \u001b[0;34m=\u001b[0m \u001b[0mevaluate\u001b[0m\u001b[0;34m(\u001b[0m\u001b[0mX_test\u001b[0m\u001b[0;34m,\u001b[0m \u001b[0my_test\u001b[0m\u001b[0;34m)\u001b[0m\u001b[0;34m\u001b[0m\u001b[0m\n\u001b[0;32m--> 164\u001b[0;31m     \u001b[0mTest_load_accuracy\u001b[0m \u001b[0;34m=\u001b[0m \u001b[0mevaluate\u001b[0m\u001b[0;34m(\u001b[0m\u001b[0mX_test_load\u001b[0m\u001b[0;34m,\u001b[0m \u001b[0my_test_load\u001b[0m\u001b[0;34m)\u001b[0m\u001b[0;34m\u001b[0m\u001b[0m\n\u001b[0m\u001b[1;32m    165\u001b[0m \u001b[0;34m\u001b[0m\u001b[0m\n\u001b[1;32m    166\u001b[0m \u001b[0;34m\u001b[0m\u001b[0m\n",
      "\u001b[0;31mNameError\u001b[0m: name 'X_test_load' is not defined"
     ]
    }
   ],
   "source": [
    "import tensorflow as tf\n",
    "from tensorflow.contrib.layers import flatten\n",
    "\n",
    "\n",
    "def LeNet(x,keep_prob, fcp=(120,120,84)):\n",
    "    # Arguments used for tf.truncated_normal, randomly defines variables for the weights and biases for each layer\n",
    "    mu = 0\n",
    "    sigma = 0.1\n",
    "\n",
    "    # SOLUTION: Layer 1: Convolutional. Input = 32x32x3. Output = 28x28x6.\n",
    "    conv1_W = tf.Variable(tf.truncated_normal(shape=(5, 5, 1, 6), mean=mu, stddev=sigma))\n",
    "    conv1_b = tf.Variable(tf.zeros(6))\n",
    "    conv1 = tf.nn.conv2d(x, conv1_W, strides=[1, 1, 1, 1], padding='VALID') + conv1_b\n",
    "\n",
    "\n",
    "    # SOLUTION: Activation.\n",
    "    with tf.name_scope(\"RELU1\"):\n",
    "        conv1 = tf.nn.relu(conv1)\n",
    "\n",
    "\n",
    "    # SOLUTION: Pooling. Input = 28x28x6. Output = 14x14x6.\n",
    "    with tf.name_scope(\"POOL1\"):\n",
    "        conv1 = tf.nn.max_pool(conv1, ksize=[1, 2, 2, 1], strides=[1, 2, 2, 1], padding='VALID')\n",
    "\n",
    "    # SOLUTION: Layer 2: Convolutional. Output = 10x10x16.\n",
    "    with tf.name_scope(\"CONV2\"):\n",
    "        conv2_W = tf.Variable(tf.truncated_normal(shape=(5, 5, 6, 16), mean=mu, stddev=sigma))\n",
    "        conv2_b = tf.Variable(tf.zeros(16))\n",
    "        conv2 = tf.nn.conv2d(conv1, conv2_W, strides=[1, 1, 1, 1], padding='VALID') + conv2_b\n",
    "\n",
    "    # SOLUTION: Activation.\n",
    "    with tf.name_scope(\"RELU2\"):\n",
    "        conv2 = tf.nn.relu(conv2)\n",
    "\n",
    "    with tf.name_scope(\"POOL2\"):\n",
    "        # SOLUTION: Pooling. Input = 10x10x16. Output = 5x5x16.\n",
    "        conv2 = tf.nn.max_pool(conv2, ksize=[1, 2, 2, 1], strides=[1, 2, 2, 1], padding='VALID')\n",
    "\n",
    "    with tf.name_scope(\"Flatten\"):\n",
    "        # SOLUTION: Flatten. Input = 5x5x16. Output = 400.\n",
    "        fc0 = flatten(conv2)\n",
    "\n",
    "    with tf.name_scope(\"FC1\"):\n",
    "        # SOLUTION: Layer 3: Fully Connected. Input = 400. Output = 120.\n",
    "        fc1_W = tf.Variable(tf.truncated_normal(shape=(400, fcp[0]), mean=mu, stddev=sigma))\n",
    "        fc1_b = tf.Variable(tf.zeros(fcp[0]))\n",
    "        fc1 = tf.matmul(fc0, fc1_W) + fc1_b\n",
    "\n",
    "    with tf.name_scope(\"RELU3\"):\n",
    "        # SOLUTION: Activation.\n",
    "        fc1 = tf.nn.relu(fc1)\n",
    "\n",
    "    with tf.name_scope(\"DROP_OUT\"):\n",
    "        fc1 = tf.nn.dropout(fc1, keep_prob=keep_prob)\n",
    "\n",
    "    with tf.name_scope(\"FC2\"):\n",
    "        # SOLUTION: Layer 4: Fully Connected. Input = 120. Output = 84.\n",
    "        fc2_W = tf.Variable(tf.truncated_normal(shape=(fcp[0], fcp[1]), mean=mu, stddev=sigma))\n",
    "        fc2_b = tf.Variable(tf.zeros(fcp[1]))\n",
    "        fc2 = tf.matmul(fc1, fc2_W) + fc2_b\n",
    "\n",
    "    with tf.name_scope(\"RELU4\"):\n",
    "        # SOLUTION: Activation.\n",
    "        fc2 = tf.nn.relu(fc2)\n",
    "        \n",
    "        \n",
    "    with tf.name_scope(\"FC2\"):\n",
    "        # SOLUTION: Layer 4: Fully Connected. Input = 120. Output = 84.\n",
    "        fc3_W = tf.Variable(tf.truncated_normal(shape=(fcp[1], fcp[2]), mean=mu, stddev=sigma))\n",
    "        fc3_b = tf.Variable(tf.zeros(fcp[2]))\n",
    "        fc3 = tf.matmul(fc2, fc3_W) + fc3_b\n",
    "\n",
    "    with tf.name_scope(\"RELU5\"):\n",
    "        # SOLUTION: Activation.\n",
    "        fc3 = tf.nn.relu(fc3)\n",
    "        \n",
    "\n",
    "    with tf.name_scope(\"FC4\"):\n",
    "        # SOLUTION: Layer 5: Fully Connected. Input = 84. Output = 10.\n",
    "        fc4_W = tf.Variable(tf.truncated_normal(shape=(fcp[2], 43), mean=mu, stddev=sigma))\n",
    "        fc4_b = tf.Variable(tf.zeros(43))\n",
    "        logits = tf.matmul(fc3, fc4_W) + fc4_b\n",
    "\n",
    "    return logits\n",
    "\n",
    "\n",
    "\n",
    "x = tf.placeholder(tf.float32, (None, 32, 32, 1))\n",
    "y = tf.placeholder(tf.int32, (None))\n",
    "one_hot_y = tf.one_hot(y, 43)\n",
    "keep_prob = tf.placeholder(tf.float32, ())\n",
    "\n",
    "\n",
    "\n",
    "EPOCHS = 160\n",
    "BATCH_SIZE = 1024\n",
    "rate = 0.001\n",
    "training_keep_prob = 0.5\n",
    "\n",
    "netpara = (300,180,100)\n",
    "#netpara = (120, 84)\n",
    "\n",
    "logits = LeNet(x,keep_prob, netpara)\n",
    "#logits = LeNet_o(x,keep_prob, netpara)\n",
    "\n",
    "tf.summary.image(\"x\", x,max_outputs=3)\n",
    "\n",
    "\n",
    "cross_entropy = tf.nn.softmax_cross_entropy_with_logits(logits, one_hot_y)\n",
    "loss_operation = tf.reduce_mean(cross_entropy)\n",
    "optimizer = tf.train.AdamOptimizer(learning_rate = rate)\n",
    "training_operation = optimizer.minimize(loss_operation)\n",
    "\n",
    "correct_prediction = tf.equal(tf.argmax(logits, 1), tf.argmax(one_hot_y, 1))\n",
    "accuracy_operation = tf.reduce_mean(tf.cast(correct_prediction, tf.float32))\n",
    "saver = tf.train.Saver()\n",
    "\n",
    "tf.summary.scalar('accuracy', accuracy_operation)\n",
    "#tf.summary.scalar(\"validation_accuracy\", validation_accuracy)\n",
    "\n",
    "\n",
    "def evaluate(X_data, y_data):\n",
    "    num_examples = len(X_data)\n",
    "    total_accuracy = 0\n",
    "    sess = tf.get_default_session()\n",
    "    for offset in range(0, num_examples, BATCH_SIZE):\n",
    "        batch_x, batch_y = X_data[offset:offset+BATCH_SIZE], y_data[offset:offset+BATCH_SIZE]\n",
    "        accuracy = sess.run(accuracy_operation, feed_dict={x: batch_x, y: batch_y, keep_prob:1})\n",
    "        total_accuracy += (accuracy * len(batch_x))\n",
    "    return total_accuracy / num_examples\n",
    "\n",
    "merged = tf.summary.merge_all()\n",
    "\n",
    "with tf.Session() as sess:\n",
    "\n",
    "    # sess.graph_def is the graph definition; that enables the Graph Visualizer.\n",
    "    file_writer = tf.summary.FileWriter('./logs', sess.graph)\n",
    "\n",
    "    sess.run(tf.global_variables_initializer())\n",
    "    num_examples = len(X_train)\n",
    "\n",
    "    print(\"Training...\")\n",
    "    print()\n",
    "    for i in range(EPOCHS):\n",
    "        X_train, y_train = shuffle(X_train, y_train)\n",
    "        for offset in range(0, num_examples, BATCH_SIZE):\n",
    "            end = offset + BATCH_SIZE\n",
    "            batch_x, batch_y = X_train[offset:end], y_train[offset:end]\n",
    "            sess.run(training_operation, feed_dict={x: batch_x, y: batch_y, keep_prob:training_keep_prob})\n",
    "\n",
    "            if 0: #offset % (BATCH_SIZE*100) == 0.0:\n",
    "                summary, Traing_loss = sess.run([merged,loss_operation], feed_dict={x: batch_x, y: batch_y, keep_prob:1})\n",
    "                print(\"batch = {:.3f}  Traing Loss = {:.3f}\".format(offset, Traing_loss))\n",
    "\n",
    "                file_writer.add_summary(summary, i*num_examples+offset)\n",
    "\n",
    "\n",
    "        Training_accuracy = evaluate(X_train, y_train)\n",
    "        validation_accuracy = evaluate(X_validation, y_validation)\n",
    "        print(\"EPOCH {} ... Training Accuracy= {:.3f}  Validation Accuracy = {:.3f}\".format(i+1, Training_accuracy,validation_accuracy))\n",
    "\n",
    "        #file_writer.add_summary(summary,i)\n",
    "    Test_accuracy = evaluate(X_test, y_test)\n",
    "    Test_load_accuracy = evaluate(X_test_load, y_test_load)\n",
    "\n",
    "\n",
    "    \n",
    "    print(\"Test Accuracy= {:.3f}  Test_load Accuracy = {:.3f}\".format(Test_accuracy,Test_load_accuracy))\n",
    "\n",
    "\n",
    "\n",
    "\n",
    "\n",
    "    saver.save(sess, './lenet')\n",
    "    print(\"Model saved\")"
   ]
  },
  {
   "cell_type": "code",
   "execution_count": 6,
   "metadata": {
    "collapsed": true,
    "deletable": true,
    "editable": true
   },
   "outputs": [],
   "source": [
    "### Print out the top five softmax probabilities for the predictions on the German traffic sign images found on the web. \n",
    "### Feel free to use as many code cells as needed."
   ]
  },
  {
   "cell_type": "markdown",
   "metadata": {
    "deletable": true,
    "editable": true
   },
   "source": [
    "> **Note**: Once you have completed all of the code implementations, you need to finalize your work by exporting the IPython Notebook as an HTML document. Before exporting the notebook to html, all of the code cells need to have been run. You can then export the notebook by using the menu above and navigating to  \\n\",\n",
    "    \"**File -> Download as -> HTML (.html)**. Include the finished document along with this notebook as your submission. "
   ]
  },
  {
   "cell_type": "markdown",
   "metadata": {
    "deletable": true,
    "editable": true
   },
   "source": [
    "### Project Writeup\n",
    "\n",
    "Once you have completed the code implementation, document your results in a project writeup using this [template](https://github.com/udacity/CarND-Traffic-Sign-Classifier-Project/blob/master/writeup_template.md) as a guide. The writeup can be in a markdown or pdf file. "
   ]
  },
  {
   "cell_type": "code",
   "execution_count": null,
   "metadata": {
    "collapsed": true,
    "deletable": true,
    "editable": true
   },
   "outputs": [],
   "source": []
  }
 ],
 "metadata": {
  "anaconda-cloud": {},
  "kernelspec": {
   "display_name": "Python 3",
   "language": "python",
   "name": "python3"
  },
  "language_info": {
   "codemirror_mode": {
    "name": "ipython",
    "version": 3
   },
   "file_extension": ".py",
   "mimetype": "text/x-python",
   "name": "python",
   "nbconvert_exporter": "python",
   "pygments_lexer": "ipython3",
   "version": "3.5.2"
  },
  "toc": {
   "colors": {
    "hover_highlight": "#DAA520",
    "running_highlight": "#FF0000",
    "selected_highlight": "#FFD700"
   },
   "moveMenuLeft": true,
   "nav_menu": {
    "height": "336px",
    "width": "252px"
   },
   "navigate_menu": true,
   "number_sections": true,
   "sideBar": true,
   "threshold": 4,
   "toc_cell": false,
   "toc_section_display": "block",
   "toc_window_display": false
  },
  "widgets": {
   "state": {},
   "version": "1.1.2"
  }
 },
 "nbformat": 4,
 "nbformat_minor": 0
}
